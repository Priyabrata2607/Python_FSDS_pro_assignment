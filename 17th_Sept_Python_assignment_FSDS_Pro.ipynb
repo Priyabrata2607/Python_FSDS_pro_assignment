{
 "cells": [
  {
   "cell_type": "markdown",
   "id": "c75c5938",
   "metadata": {},
   "source": [
    "# For Loop :-"
   ]
  },
  {
   "cell_type": "markdown",
   "id": "8ff6b1b1",
   "metadata": {},
   "source": [
    "1.\tWrite a Python program to print numbers from 1 to 10 using a for loop."
   ]
  },
  {
   "cell_type": "code",
   "execution_count": 3,
   "id": "933f6dcf",
   "metadata": {
    "scrolled": true
   },
   "outputs": [
    {
     "name": "stdout",
     "output_type": "stream",
     "text": [
      "Numbers from 1 to 10 are\n",
      "1\n",
      "2\n",
      "3\n",
      "4\n",
      "5\n",
      "6\n",
      "7\n",
      "8\n",
      "9\n",
      "10\n"
     ]
    }
   ],
   "source": [
    "print('Numbers from 1 to 10 are')\n",
    "for i in range(1,11):\n",
    "    print(i)"
   ]
  },
  {
   "cell_type": "markdown",
   "id": "eb77ed23",
   "metadata": {},
   "source": [
    "2.\tExplain the difference between a for loop and a while loop in Python."
   ]
  },
  {
   "cell_type": "markdown",
   "id": "66b2686a",
   "metadata": {},
   "source": [
    "For loop\n",
    "------------\n",
    "In for loop it is designed for iterating over a sequence of item.example-List,Tuple etc. "
   ]
  },
  {
   "cell_type": "markdown",
   "id": "58bc27ba",
   "metadata": {},
   "source": [
    "While loop\n",
    "--------------\n",
    "In while loop it is used to repeatedly execute a statement while a condition is true."
   ]
  },
  {
   "cell_type": "markdown",
   "id": "75f9868b",
   "metadata": {},
   "source": [
    "3.\tWrite a Python program to calculate the sum of all numbers from 1 to 100 using a for loop."
   ]
  },
  {
   "cell_type": "code",
   "execution_count": 5,
   "id": "853ea684",
   "metadata": {},
   "outputs": [
    {
     "name": "stdout",
     "output_type": "stream",
     "text": [
      "The sum of all numbers from 1 to 100 is: 5050\n"
     ]
    }
   ],
   "source": [
    "sum=0\n",
    "for i in range(1,101):\n",
    "    sum+=i\n",
    "print('The sum of all numbers from 1 to 100 is:',sum)"
   ]
  },
  {
   "cell_type": "markdown",
   "id": "fc9b0233",
   "metadata": {},
   "source": [
    "4.\tHow do you iterate through a list using a for loop in Python?"
   ]
  },
  {
   "cell_type": "markdown",
   "id": "2ce2443a",
   "metadata": {},
   "source": [
    "In a list the for loop goes through the index value of each list item and execute the conditions which ever is provided under the for loop."
   ]
  },
  {
   "cell_type": "markdown",
   "id": "7fefd853",
   "metadata": {},
   "source": [
    "5.\tWrite a Python program to find the product of all elements in a list using a for loop."
   ]
  },
  {
   "cell_type": "code",
   "execution_count": 7,
   "id": "76d00d39",
   "metadata": {},
   "outputs": [
    {
     "name": "stdout",
     "output_type": "stream",
     "text": [
      "Enter the number of elements to be added in the list: 5\n",
      "3\n",
      "7\n",
      "2\n",
      "4\n",
      "5\n",
      "The product of all elements in a list is: 840\n"
     ]
    }
   ],
   "source": [
    "num_list=[]\n",
    "num=int(input('Enter the number of elements to be added in the list: '))\n",
    "for i in range(0,num):\n",
    "    ele=int(input())\n",
    "    num_list.append(ele)\n",
    "prod=1\n",
    "for i in num_list:\n",
    "    prod*=i\n",
    "print('The product of all elements in a list is:',prod)"
   ]
  },
  {
   "cell_type": "markdown",
   "id": "5d068b1b",
   "metadata": {},
   "source": [
    "6.\tCreate a Python program that prints all even numbers from 1 to 20 using a for loop."
   ]
  },
  {
   "cell_type": "code",
   "execution_count": 9,
   "id": "cefddd28",
   "metadata": {},
   "outputs": [
    {
     "name": "stdout",
     "output_type": "stream",
     "text": [
      "All even numbers between 1 to 20 are\n",
      "2 4 6 8 10 12 14 16 18 20 "
     ]
    }
   ],
   "source": [
    "print('All even numbers between 1 to 20 are')\n",
    "for i in range(1,21):\n",
    "    if i%2==0:\n",
    "        print(i,end=' ')\n",
    "        "
   ]
  },
  {
   "cell_type": "markdown",
   "id": "220fb526",
   "metadata": {},
   "source": [
    "7.\tWrite a Python program that calculates the factorial of a number using a for loop."
   ]
  },
  {
   "cell_type": "code",
   "execution_count": 10,
   "id": "335090a8",
   "metadata": {},
   "outputs": [
    {
     "name": "stdout",
     "output_type": "stream",
     "text": [
      "Enter a number for factorial: 5\n",
      "The factorial of 5 is 120\n"
     ]
    }
   ],
   "source": [
    "num=int(input('Enter a number for factorial: '))\n",
    "fact=1\n",
    "for i in range(1,num+1):\n",
    "    fact*=i\n",
    "print(f'The factorial of {num} is {fact}')"
   ]
  },
  {
   "cell_type": "markdown",
   "id": "6ab523c4",
   "metadata": {},
   "source": [
    "8.\tHow can you iterate through the characters of a string using a for loop in Python?"
   ]
  },
  {
   "cell_type": "markdown",
   "id": "26732d13",
   "metadata": {},
   "source": [
    "We can use for loop to iterate over a string and get each character of a string. For every iteration we can get each character in a string."
   ]
  },
  {
   "cell_type": "markdown",
   "id": "3ae45979",
   "metadata": {},
   "source": [
    "9.\tWrite a Python program to find the largest number in a list using a for loop."
   ]
  },
  {
   "cell_type": "code",
   "execution_count": 11,
   "id": "482294eb",
   "metadata": {},
   "outputs": [
    {
     "name": "stdout",
     "output_type": "stream",
     "text": [
      "Enter the number of element to be added to the list: 5\n",
      "12\n",
      "17\n",
      "2\n",
      "76\n",
      "196\n",
      "the greatest number in the list is 196\n"
     ]
    }
   ],
   "source": [
    "lst=[]\n",
    "num=int(input('Enter the number of element to be added to the list: '))\n",
    "for n in range(0,num):\n",
    "    ele=int(input())\n",
    "    lst.append(ele)\n",
    "ln=lst[0]\n",
    "for i in lst:\n",
    "    if i>ln:\n",
    "        ln=i\n",
    "print('the greatest number in the list is',ln)"
   ]
  },
  {
   "cell_type": "markdown",
   "id": "1e1b9cda",
   "metadata": {},
   "source": [
    "10.\tCreate a Python program that prints the Fibonacci sequence up to a specified limit using a for loop."
   ]
  },
  {
   "cell_type": "code",
   "execution_count": 27,
   "id": "4547e0b7",
   "metadata": {},
   "outputs": [
    {
     "name": "stdout",
     "output_type": "stream",
     "text": [
      "Enter a specified limit for fibonacci: 10\n",
      "The fibonacci series upto 10th position is\n",
      "0 1 1 2 3 5 8 13 21 34 "
     ]
    }
   ],
   "source": [
    "limit=int(input('Enter a specified limit for fibonacci: '))\n",
    "first=0\n",
    "second=1\n",
    "print(f'The fibonacci series upto {limit}th position is')\n",
    "print(first,second,end=' ')\n",
    "for i in range(2,limit):\n",
    "    third=first+second\n",
    "    print(third,end=' ')\n",
    "    first,second=second,third"
   ]
  },
  {
   "cell_type": "markdown",
   "id": "530e4a6c",
   "metadata": {},
   "source": [
    "11.\tWrite a Python program to count the number of vowels in a given string using a for loop."
   ]
  },
  {
   "cell_type": "code",
   "execution_count": 13,
   "id": "dd47cedc",
   "metadata": {},
   "outputs": [
    {
     "name": "stdout",
     "output_type": "stream",
     "text": [
      "enter a string: I am a boy\n",
      "The number of vowels in I am a boy is 4\n"
     ]
    }
   ],
   "source": [
    "string=input('enter a string: ')\n",
    "count=0\n",
    "for i in string:\n",
    "    if i=='a' or i=='e' or i=='i' or i=='o' or i=='u' or i=='A' or i=='E' or i=='I' or i=='O' or i=='U':\n",
    "        count+=1\n",
    "print(f'The number of vowels in {string} is {count}')\n",
    "        "
   ]
  },
  {
   "cell_type": "markdown",
   "id": "b53b4ff5",
   "metadata": {},
   "source": [
    "12.\tCreate a Python program that generates a multiplication table for a given number using a for loop."
   ]
  },
  {
   "cell_type": "code",
   "execution_count": 15,
   "id": "7f7cdd38",
   "metadata": {},
   "outputs": [
    {
     "name": "stdout",
     "output_type": "stream",
     "text": [
      "Enter a number: 24\n",
      "The multiplication table of 24 is:\n",
      "24 * 1 = 24\n",
      "24 * 2 = 48\n",
      "24 * 3 = 72\n",
      "24 * 4 = 96\n",
      "24 * 5 = 120\n",
      "24 * 6 = 144\n",
      "24 * 7 = 168\n",
      "24 * 8 = 192\n",
      "24 * 9 = 216\n",
      "24 * 10 = 240\n"
     ]
    }
   ],
   "source": [
    "num=int(input('Enter a number: '))\n",
    "print(f'The multiplication table of {num} is:')\n",
    "for i in range(1,11):\n",
    "    print(f'{num} * {i} = {num*i}')"
   ]
  },
  {
   "cell_type": "markdown",
   "id": "9df5b66c",
   "metadata": {},
   "source": [
    "13.\tWrite a Python program to reverse a list using a for loop."
   ]
  },
  {
   "cell_type": "code",
   "execution_count": 16,
   "id": "752cbee3",
   "metadata": {},
   "outputs": [
    {
     "name": "stdout",
     "output_type": "stream",
     "text": [
      "Enter the number of element to be added to the list: 5\n",
      "12\n",
      "23\n",
      "54\n",
      "76\n",
      "234\n",
      "The original list is [12, 23, 54, 76, 234]\n",
      "The reversed list is [234, 76, 54, 23, 12]\n"
     ]
    }
   ],
   "source": [
    "lst=[]\n",
    "rev_lst=[]\n",
    "num=int(input('Enter the number of element to be added to the list: '))\n",
    "for i in range(0,num):\n",
    "    ele=int(input())\n",
    "    lst.append(ele)\n",
    "print('The original list is',lst)\n",
    "for i in lst[::-1]:\n",
    "    rev_lst.append(i)\n",
    "print('The reversed list is',rev_lst)"
   ]
  },
  {
   "cell_type": "markdown",
   "id": "16ea04cf",
   "metadata": {},
   "source": [
    "14.\tWrite a Python program to find the common elements between two lists using a for loop."
   ]
  },
  {
   "cell_type": "code",
   "execution_count": 28,
   "id": "4e0ca505",
   "metadata": {},
   "outputs": [
    {
     "name": "stdout",
     "output_type": "stream",
     "text": [
      "enter the number of element for list1: 5\n",
      "enter the number of element for list2: 4\n",
      "Enter the elements for list1\n",
      "1\n",
      "2\n",
      "3\n",
      "4\n",
      "5\n",
      "Enter the elements for list2\n",
      "3\n",
      "4\n",
      "5\n",
      "6\n",
      "The common elements between two lists are:  [3, 4, 5]\n"
     ]
    }
   ],
   "source": [
    "list1=[]\n",
    "list2=[]\n",
    "common=[]\n",
    "num1=int(input('enter the number of element for list1: '))\n",
    "num2=int(input('enter the number of element for list2: '))\n",
    "print('Enter the elements for list1')\n",
    "for i in range(0,num1):\n",
    "    ele1=int(input())\n",
    "    list1.append(ele1)\n",
    "print('Enter the elements for list2')\n",
    "for i in range(0,num2):\n",
    "    ele2=int(input())\n",
    "    list2.append(ele2)\n",
    "for i in list1:\n",
    "    if i in list2:\n",
    "        common.append(i)\n",
    "\n",
    "print('The common elements between two lists are: ',common)"
   ]
  },
  {
   "cell_type": "markdown",
   "id": "40201a0c",
   "metadata": {},
   "source": [
    "15.\tExplain how to use a for loop to iterate through the keys and values of a dictionary in Python."
   ]
  },
  {
   "cell_type": "markdown",
   "id": "8ee5bd16",
   "metadata": {},
   "source": [
    "In Python To through a dictionary using for loop we can use keys(),values(),items() methods. "
   ]
  },
  {
   "cell_type": "markdown",
   "id": "0b7aad69",
   "metadata": {},
   "source": [
    "If we directly iterate through the dictionary simply without using any method it will return only keys"
   ]
  },
  {
   "cell_type": "markdown",
   "id": "9f0f6d56",
   "metadata": {},
   "source": [
    "If we use keys() method it will return all keys in dictionary."
   ]
  },
  {
   "cell_type": "markdown",
   "id": "3abba26a",
   "metadata": {},
   "source": [
    "If we use values() method in for loop it will return all the values of perticular keys in dictionary."
   ]
  },
  {
   "cell_type": "markdown",
   "id": "2ab9dcea",
   "metadata": {},
   "source": [
    "If we use items() in for loop it will return all keys and their values."
   ]
  },
  {
   "cell_type": "markdown",
   "id": "593a2715",
   "metadata": {},
   "source": [
    "----------------------------------------------------------"
   ]
  },
  {
   "cell_type": "markdown",
   "id": "d80c7248",
   "metadata": {},
   "source": [
    "16.\tWrite a Python program to find the GCD (Greatest Common Divisor) of two numbers using a for loop."
   ]
  },
  {
   "cell_type": "code",
   "execution_count": 29,
   "id": "97ef26db",
   "metadata": {},
   "outputs": [
    {
     "name": "stdout",
     "output_type": "stream",
     "text": [
      "Enter the first number24\n",
      "Enter second number: 56\n",
      "The gcd between 24 and 56 is 8\n"
     ]
    }
   ],
   "source": [
    "num1=int(input('Enter the first number'))\n",
    "num2=int(input('Enter second number: '))\n",
    "for i in range(1,min(num1,num2)+1):\n",
    "    if num1%i==0 and num2%i==0:\n",
    "        gcd=i\n",
    "\n",
    "print(f'The gcd between {num1} and {num2} is {gcd}')"
   ]
  },
  {
   "cell_type": "markdown",
   "id": "805b69d1",
   "metadata": {},
   "source": [
    "17.\tCreate a Python program that checks if a string is a palindrome using a for loop."
   ]
  },
  {
   "cell_type": "code",
   "execution_count": 19,
   "id": "6902d411",
   "metadata": {},
   "outputs": [
    {
     "name": "stdout",
     "output_type": "stream",
     "text": [
      "Enter a string: liril\n",
      "liril is palindrome.\n"
     ]
    }
   ],
   "source": [
    "string=input('Enter a string: ')\n",
    "if string==string[::-1]:\n",
    "    print(string,'is palindrome.')\n",
    "else:\n",
    "    print(string,'is not palindrome. ')"
   ]
  },
  {
   "cell_type": "markdown",
   "id": "231c6aca",
   "metadata": {},
   "source": [
    "18.\tWrite a Python program to remove duplicates from a list using a for loop."
   ]
  },
  {
   "cell_type": "code",
   "execution_count": 31,
   "id": "2d7a0d1b",
   "metadata": {},
   "outputs": [
    {
     "name": "stdout",
     "output_type": "stream",
     "text": [
      "Enter the number of element added to the list: 10\n",
      "The list elements are: \n",
      "1\n",
      "2\n",
      "3\n",
      "9\n",
      "8\n",
      "7\n",
      "1\n",
      "5\n",
      "7\n",
      "8\n",
      "The original list is: [1, 2, 3, 9, 8, 7, 1, 5, 7, 8]\n",
      "The list after removing depulicates is: [1, 2, 3, 9, 8, 7, 5]\n"
     ]
    }
   ],
   "source": [
    "lst=[]\n",
    "uniq=[]\n",
    "num=int(input('Enter the number of element added to the list: '))\n",
    "print('The list elements are: ')\n",
    "for i in range(0,num):\n",
    "    ele=int(input())\n",
    "    lst.append(ele)\n",
    "for i in lst:\n",
    "    if i not in uniq:\n",
    "        uniq.append(i)\n",
    "print('The original list is:',lst)\n",
    "print('The list after removing depulicates is:',uniq)"
   ]
  },
  {
   "cell_type": "markdown",
   "id": "462846e8",
   "metadata": {},
   "source": [
    "19.\tCreate a Python program that counts the number of words in a sentence using a for loop."
   ]
  },
  {
   "cell_type": "code",
   "execution_count": 22,
   "id": "b311d4e3",
   "metadata": {},
   "outputs": [
    {
     "name": "stdout",
     "output_type": "stream",
     "text": [
      "Enter a sentence: My name is kumar sanu\n",
      "The number of words in this sentence is 5\n"
     ]
    }
   ],
   "source": [
    "sen=input('Enter a sentence: ').split()\n",
    "count=0\n",
    "for i in sen:\n",
    "    count+=1\n",
    "print('The number of words in this sentence is',count)"
   ]
  },
  {
   "cell_type": "markdown",
   "id": "eee0ecc0",
   "metadata": {},
   "source": [
    "20.\tWrite a Python program to find the sum of all odd numbers from 1 to 50 using a for loop."
   ]
  },
  {
   "cell_type": "code",
   "execution_count": 23,
   "id": "3a783bb4",
   "metadata": {},
   "outputs": [
    {
     "name": "stdout",
     "output_type": "stream",
     "text": [
      "The sum of all odd numbers from 1 to 50 is 625\n"
     ]
    }
   ],
   "source": [
    "sum=0\n",
    "for i in range(1,50):\n",
    "    if i%2!=0:\n",
    "        sum+=i\n",
    "print('The sum of all odd numbers from 1 to 50 is',sum)"
   ]
  },
  {
   "cell_type": "markdown",
   "id": "1d8462b4",
   "metadata": {},
   "source": [
    "21.\tWrite a Python program that checks if a given year is a leap year using a for loop."
   ]
  },
  {
   "cell_type": "code",
   "execution_count": 1,
   "id": "605cf282",
   "metadata": {},
   "outputs": [
    {
     "name": "stdout",
     "output_type": "stream",
     "text": [
      "Enter the start year: 1900\n",
      "Enter a end year: 2023\n",
      "all leapyears between 1900 and 2023 are [1904, 1908, 1912, 1916, 1920, 1924, 1928, 1932, 1936, 1940, 1944, 1948, 1952, 1956, 1960, 1964, 1968, 1972, 1976, 1980, 1984, 1988, 1992, 1996, 2000, 2004, 2008, 2012, 2016, 2020]\n"
     ]
    }
   ],
   "source": [
    "startyear=int(input('Enter the start year: '))\n",
    "endyear=int(input('Enter a end year: '))\n",
    "leapyear=[]\n",
    "for year in range(startyear,endyear+1):\n",
    "    if (year%4==0 and year%100!=0) or year%400==0:\n",
    "        leapyear.append(year)\n",
    "\n",
    "print(f'all leapyears between {startyear} and {endyear} are {leapyear}')"
   ]
  },
  {
   "cell_type": "markdown",
   "id": "12286e58",
   "metadata": {},
   "source": [
    "22.\tCreate a Python program that calculates the square root of a number using a for loop."
   ]
  },
  {
   "cell_type": "code",
   "execution_count": 34,
   "id": "cbba777a",
   "metadata": {},
   "outputs": [
    {
     "name": "stdout",
     "output_type": "stream",
     "text": [
      "Enter a number: 16\n",
      "The Square root of 16 is 4\n"
     ]
    }
   ],
   "source": [
    "num=int(input('Enter a number: '))\n",
    "for i in range(0,num):\n",
    "    if i*i==num:\n",
    "        print(f'The Square root of {num} is {i}')"
   ]
  },
  {
   "cell_type": "markdown",
   "id": "66056945",
   "metadata": {},
   "source": [
    "23.\tWrite a Python program to find the LCM (Least Common Multiple) of two numbers using a for loop."
   ]
  },
  {
   "cell_type": "code",
   "execution_count": 36,
   "id": "96f02c77",
   "metadata": {},
   "outputs": [
    {
     "name": "stdout",
     "output_type": "stream",
     "text": [
      "Enter the first number:12\n",
      "Enter the second number:15\n",
      "The lcm of 12 and 15 is 60\n"
     ]
    }
   ],
   "source": [
    "num1=int(input('Enter the first number:'))\n",
    "num2=int(input('Enter the second number:'))\n",
    "\n",
    "for i in range(max(num1,num2),1+(num1*num2)):\n",
    "    if i%num1==0 and i%num2==0:\n",
    "        lcm=i\n",
    "        break\n",
    "print(f'The lcm of {num1} and {num2} is {lcm}')"
   ]
  },
  {
   "cell_type": "markdown",
   "id": "e2496506",
   "metadata": {},
   "source": [
    "# If else :"
   ]
  },
  {
   "cell_type": "markdown",
   "id": "018ed7a4",
   "metadata": {},
   "source": [
    "1.\tWrite a Python program to check if a number is positive, negative, or zero using an if-else statement."
   ]
  },
  {
   "cell_type": "code",
   "execution_count": 33,
   "id": "8bae45ba",
   "metadata": {},
   "outputs": [
    {
     "name": "stdout",
     "output_type": "stream",
     "text": [
      "Enter a number: -5\n",
      "-5 is negative\n"
     ]
    }
   ],
   "source": [
    "num=int(input('Enter a number: '))\n",
    "if num>=0:\n",
    "    if num==0:\n",
    "        print(num,'is zero')\n",
    "    else:\n",
    "        print(num,'is positive')\n",
    "else:\n",
    "    print(num,'is negative')"
   ]
  },
  {
   "cell_type": "markdown",
   "id": "94c8d5ff",
   "metadata": {},
   "source": [
    "2.\tCreate a Python program that checks if a given number is even or odd using an if-else statement."
   ]
  },
  {
   "cell_type": "code",
   "execution_count": 30,
   "id": "030e7b5b",
   "metadata": {},
   "outputs": [
    {
     "name": "stdout",
     "output_type": "stream",
     "text": [
      "Enter a number: 13\n",
      "13 is odd\n"
     ]
    }
   ],
   "source": [
    "num=int(input('Enter a number: '))\n",
    "if num%2==0:\n",
    "    print(num,'is even')\n",
    "else:\n",
    "    print(num,'is odd')"
   ]
  },
  {
   "cell_type": "markdown",
   "id": "cc4a1acb",
   "metadata": {},
   "source": [
    "3.\tHow can you use nested if-else statements in Python, and provide an example?"
   ]
  },
  {
   "cell_type": "code",
   "execution_count": 1,
   "id": "eaf8621b",
   "metadata": {},
   "outputs": [
    {
     "name": "stdout",
     "output_type": "stream",
     "text": [
      "Bigger than 5\n",
      "Between 5 and 15\n"
     ]
    }
   ],
   "source": [
    "'''In nested if-else if statement can also be checked inside other if statement. \n",
    "This conditional statement is called a nested if-else statement. \n",
    "This means that inner if condition will be checked only if outer if condition is true or it will go to else part\n",
    "we can see multiple conditions to be satisfied. '''\n",
    "#example\n",
    "num = 10\n",
    " \n",
    "if num > 5:\n",
    "   print(\"Bigger than 5\")\n",
    "   if num <= 15:\n",
    "      print(\"Between 5 and 15\")\n",
    "else:\n",
    "    print('Not in range')"
   ]
  },
  {
   "cell_type": "markdown",
   "id": "0ef17c7c",
   "metadata": {},
   "source": [
    "4.\tWrite a Python program to determine the largest of three numbers using if-else."
   ]
  },
  {
   "cell_type": "code",
   "execution_count": 3,
   "id": "ded10e7c",
   "metadata": {},
   "outputs": [
    {
     "name": "stdout",
     "output_type": "stream",
     "text": [
      "Enter the first number: 13\n",
      "Enter the second number: 15\n",
      "Enter the third number: 11\n",
      "15 is greatest.\n"
     ]
    }
   ],
   "source": [
    "num1=int(input('Enter the first number: '))\n",
    "num2=int(input('Enter the second number: '))\n",
    "num3=int(input('Enter the third number: '))\n",
    "if num1>num2 and num1>num3:\n",
    "    print(num1,'is greatest.')\n",
    "elif num2>num1 and num2>num3:\n",
    "    print(num2,'is greatest.')\n",
    "else:\n",
    "    print(num3,'is greatest.')"
   ]
  },
  {
   "cell_type": "markdown",
   "id": "524075fc",
   "metadata": {},
   "source": [
    "5.\tWrite a Python program that calculates the absolute value of a number using if-else."
   ]
  },
  {
   "cell_type": "code",
   "execution_count": 4,
   "id": "59c86cf2",
   "metadata": {},
   "outputs": [
    {
     "name": "stdout",
     "output_type": "stream",
     "text": [
      "Enter a number to check absolute number: -11\n",
      "The absolute value of the number is 11\n"
     ]
    }
   ],
   "source": [
    "num=int(input('Enter a number to check absolute number: '))\n",
    "if num>0:\n",
    "    print('The absolute value of the number is',num)\n",
    "else:\n",
    "    print('The absolute value of the number is',-num)"
   ]
  },
  {
   "cell_type": "markdown",
   "id": "89f1e385",
   "metadata": {},
   "source": [
    "6.\tCreate a Python program that checks if a given character is a vowel or consonant using if-else."
   ]
  },
  {
   "cell_type": "code",
   "execution_count": 6,
   "id": "b1db76c1",
   "metadata": {},
   "outputs": [
    {
     "name": "stdout",
     "output_type": "stream",
     "text": [
      "Enter a character to check if it is vowel or consonant: r\n",
      "r is a consonant.\n"
     ]
    }
   ],
   "source": [
    "char=input('Enter a character to check if it is vowel or consonant: ')\n",
    "if char=='a' or char=='e' or char=='i' or char=='o' or char=='u' or char=='A' or char=='E' or char=='I' or char=='O' or char=='U':\n",
    "    print(char,'is a vowel.')\n",
    "else:\n",
    "    print(char,'is a consonant.')"
   ]
  },
  {
   "cell_type": "markdown",
   "id": "1bccf5ea",
   "metadata": {},
   "source": [
    "7.\tWrite a Python program to determine if a user is eligible to vote based on their age using if-else."
   ]
  },
  {
   "cell_type": "code",
   "execution_count": 8,
   "id": "d8482ed9",
   "metadata": {},
   "outputs": [
    {
     "name": "stdout",
     "output_type": "stream",
     "text": [
      "Enter an age: 11\n",
      "Your age is 11 and you are not eligible for vote.\n"
     ]
    }
   ],
   "source": [
    "age=int(input('Enter an age: '))\n",
    "if age>=18:\n",
    "    print(f'Your age is {age} and you are eligible for vote.')\n",
    "else:\n",
    "    print(f'Your age is {age} and you are not eligible for vote.')"
   ]
  },
  {
   "cell_type": "markdown",
   "id": "3eeb65a1",
   "metadata": {},
   "source": [
    "8.\tCreate a Python program that calculates the discount amount based on the purchase amount using if-else."
   ]
  },
  {
   "cell_type": "code",
   "execution_count": 11,
   "id": "3bf30a7a",
   "metadata": {},
   "outputs": [
    {
     "name": "stdout",
     "output_type": "stream",
     "text": [
      "Enter an amount: 1200\n",
      "You got 10% discount\n",
      "your total amount is 1080.0\n"
     ]
    }
   ],
   "source": [
    "amount=int(input('Enter an amount: '))\n",
    "if amount>999:\n",
    "    print('You got 10% discount')\n",
    "    total=amount-(amount/10)\n",
    "    print('your total amount is',total)\n",
    "else:\n",
    "    print('NO discount')\n",
    "    print('your total amount is',amount)"
   ]
  },
  {
   "cell_type": "markdown",
   "id": "52e8fa52",
   "metadata": {},
   "source": [
    "9.\tWrite a Python program to check if a number is within a specified range using if-else."
   ]
  },
  {
   "cell_type": "code",
   "execution_count": 14,
   "id": "e8f75b01",
   "metadata": {},
   "outputs": [
    {
     "name": "stdout",
     "output_type": "stream",
     "text": [
      "Enter a number: 12345\n",
      "The 12345 is not within the range of 100 to 500\n"
     ]
    }
   ],
   "source": [
    "num=int(input('Enter a number: '))\n",
    "if 100<=num<=500:\n",
    "    print(f'The {num} is within the range of 100 to 500')\n",
    "else:\n",
    "    print(f'The {num} is not within the range of 100 to 500')"
   ]
  },
  {
   "cell_type": "markdown",
   "id": "11f65315",
   "metadata": {},
   "source": [
    "10.\tCreate a Python program that determines the grade of a student based on their score using if-else."
   ]
  },
  {
   "cell_type": "code",
   "execution_count": 16,
   "id": "442b48fc",
   "metadata": {},
   "outputs": [
    {
     "name": "stdout",
     "output_type": "stream",
     "text": [
      "Enter a score to check the grade: 97\n",
      "The student secured 97 marks & got O grade\n"
     ]
    }
   ],
   "source": [
    "score=int(input('Enter a score to check the grade: '))\n",
    "if score>=35:\n",
    "    if score>=50:\n",
    "        if score>=60:\n",
    "            if score>=70:\n",
    "                if score>=80:\n",
    "                    if score>=90:\n",
    "                        print(f'The student secured {score} marks & got O grade')\n",
    "                    else:\n",
    "                        print(f'The student secured {score} marks & got E grade')\n",
    "                else:\n",
    "                    print(f'The student secured {score} marks & got A grade')\n",
    "            else:\n",
    "                print(f'The student secured {score} marks & got B grade')\n",
    "        else:\n",
    "            print(f'The student secured {score} marks & got C grade')\n",
    "    else:\n",
    "        print(f'The student secured {score} marks & got D grade')\n",
    "else:\n",
    "    print(f'The student secured {score} marks and failed in exam')"
   ]
  },
  {
   "cell_type": "markdown",
   "id": "22d4511f",
   "metadata": {},
   "source": [
    "11.\tWrite a Python program to check if a string is empty or not using if-else."
   ]
  },
  {
   "cell_type": "code",
   "execution_count": 18,
   "id": "11a03ada",
   "metadata": {},
   "outputs": [
    {
     "name": "stdout",
     "output_type": "stream",
     "text": [
      "Enter a string: \n",
      "It is an empty string\n"
     ]
    }
   ],
   "source": [
    "string=input('Enter a string: ')\n",
    "if len(string)==0:\n",
    "    print('It is an empty string')\n",
    "else:\n",
    "    print('It is not an empty string')"
   ]
  },
  {
   "cell_type": "markdown",
   "id": "caac7498",
   "metadata": {},
   "source": [
    "12.\tCreate a Python program that identifies the type of a triangle (e.g., equilateral, isosceles, or scalene) based on input values using if-else."
   ]
  },
  {
   "cell_type": "code",
   "execution_count": 5,
   "id": "a42c7b93",
   "metadata": {},
   "outputs": [
    {
     "name": "stdout",
     "output_type": "stream",
     "text": [
      "Enter the side1 of the triangle: 11\n",
      "Enter the side2 of the triangle: 12\n",
      "Enter the side3 of the triangle: 13\n",
      "This triangle is scalene triangle. \n"
     ]
    }
   ],
   "source": [
    "side1=int(input('Enter the side1 of the triangle: '))\n",
    "side2=int(input('Enter the side2 of the triangle: '))\n",
    "side3=int(input('Enter the side3 of the triangle: '))\n",
    "if side1==side2 or side1==side3 or side2==side3:\n",
    "    if side1==side2==side3:\n",
    "        print('This triangle is equilateral triangle.')\n",
    "    else:\n",
    "        print('This triangle is isosceles triangle. ')\n",
    "else:\n",
    "    print('This triangle is scalene triangle. ')"
   ]
  },
  {
   "cell_type": "markdown",
   "id": "f0978a21",
   "metadata": {},
   "source": [
    "13.\tWrite a Python program to determine the day of the week based on a user-provided number using if-else."
   ]
  },
  {
   "cell_type": "code",
   "execution_count": 54,
   "id": "7f3f89a0",
   "metadata": {},
   "outputs": [
    {
     "name": "stdout",
     "output_type": "stream",
     "text": [
      "Enter a number to check the day of a week:6\n",
      "It is Saturday\n"
     ]
    }
   ],
   "source": [
    "num=int(input('Enter a number to check the day of a week:'))\n",
    "if 1<=num<=7:\n",
    "    if num==1:\n",
    "        print('It is Monday')\n",
    "    if num==2:\n",
    "        print('It is Tuesday')\n",
    "    if num==3:\n",
    "        print('It is Wednessday')\n",
    "    if num==4:\n",
    "        print('It is Thursday')\n",
    "    if num==5:\n",
    "        print('It is Friday')\n",
    "    if num==6:\n",
    "        print('It is Saturday')\n",
    "    if num==7:\n",
    "        print('It is Sunday')\n",
    "else:\n",
    "    print('Enter a valid number')\n"
   ]
  },
  {
   "cell_type": "markdown",
   "id": "e42b597c",
   "metadata": {},
   "source": [
    "14.\tCreate a Python program that checks if a given year is a leap year using both if-else and a function."
   ]
  },
  {
   "cell_type": "code",
   "execution_count": 6,
   "id": "e862089e",
   "metadata": {},
   "outputs": [
    {
     "name": "stdout",
     "output_type": "stream",
     "text": [
      "Enter the year to check if it is leap year or not: 1992\n",
      "1992 is a leap year\n"
     ]
    }
   ],
   "source": [
    "def leapyear(year):\n",
    "    if year%4==0:\n",
    "        if year%100==0:\n",
    "            if year%400==0:\n",
    "                print(year,'is a leap year')\n",
    "            else:\n",
    "                print(year, 'is not a leap year')\n",
    "        else:\n",
    "            print(year, 'is a leap year')\n",
    "    else:\n",
    "        print(year, 'is not a leap year')\n",
    "\n",
    "year=int(input('Enter the year to check if it is leap year or not: '))\n",
    "leapyear(year)"
   ]
  },
  {
   "cell_type": "markdown",
   "id": "fe951f8c",
   "metadata": {},
   "source": [
    "15.\tHow do you use the \"assert\" statement in Python to add debugging checks within if-else blocks?"
   ]
  },
  {
   "cell_type": "markdown",
   "id": "d8f9ee38",
   "metadata": {},
   "source": [
    "In Python while using assert to do debugging checks within if-else blocks if the condition is true then it will not returns anything and if the condition is False then it will throw AssertionError."
   ]
  },
  {
   "cell_type": "markdown",
   "id": "78846656",
   "metadata": {},
   "source": [
    "16.\tCreate a Python program that determines the eligibility of a person for a senior citizen discount based on age using if-else."
   ]
  },
  {
   "cell_type": "code",
   "execution_count": 7,
   "id": "36bfdd7c",
   "metadata": {},
   "outputs": [
    {
     "name": "stdout",
     "output_type": "stream",
     "text": [
      "Enter your total amount: 1200\n",
      "Enter your age: 65\n",
      "you are a senior citizen and you are eligible for 10% discount\n",
      "The total amount after discount is 1080.0\n"
     ]
    }
   ],
   "source": [
    "amount=int(input('Enter your total amount: '))\n",
    "age=int(input('Enter your age: '))\n",
    "if age>=60:\n",
    "    print('you are a senior citizen and you are eligible for 10% discount')\n",
    "    amount=amount-(amount/10)\n",
    "    print('The total amount after discount is',amount)\n",
    "else:\n",
    "    print('you are not a senior citizen and you are not eligible for any discount')\n",
    "    print('The total amount is', amount)"
   ]
  },
  {
   "cell_type": "markdown",
   "id": "a1e3b9ac",
   "metadata": {},
   "source": [
    "17.\tWrite a Python program to categorize a given character as uppercase, lowercase, or neither using if-else."
   ]
  },
  {
   "cell_type": "code",
   "execution_count": 14,
   "id": "528d8253",
   "metadata": {},
   "outputs": [
    {
     "name": "stdout",
     "output_type": "stream",
     "text": [
      "Enter a character: 1234\n",
      "The character 1234 is neither in uppercase nor in lowercase\n"
     ]
    }
   ],
   "source": [
    "char=input('Enter a character: ')\n",
    "if char.isupper():\n",
    "    print(f'The character {char} is in uppercase.')\n",
    "elif char.islower():\n",
    "    print(f'The character {char} is in lowercase.')\n",
    "else:\n",
    "    print(f'The character {char} is neither in uppercase nor in lowercase')"
   ]
  },
  {
   "cell_type": "markdown",
   "id": "193afdf8",
   "metadata": {},
   "source": [
    "18.\tWrite a Python program to determine the roots of a quadratic equation using if-else."
   ]
  },
  {
   "cell_type": "code",
   "execution_count": 15,
   "id": "6138db74",
   "metadata": {},
   "outputs": [
    {
     "name": "stdout",
     "output_type": "stream",
     "text": [
      "quadratic function= a*x^2+b*x+c\n",
      "Enter a: 5\n",
      "Enter b: 20\n",
      "Enter c: 10\n",
      "The two square roots are -0.5857864376269049 -3.414213562373095\n"
     ]
    }
   ],
   "source": [
    "print('quadratic function= a*x^2+b*x+c')\n",
    "a=float(input('Enter a: '))\n",
    "b=float(input('Enter b: '))\n",
    "c=float(input('Enter c: '))\n",
    "r=b**2 - 4*a*c\n",
    "r1=r**0.5\n",
    "if r>=0:\n",
    "    if r>0:\n",
    "        num_roots=2\n",
    "        x1=(((-b)+r1)/(2*a))\n",
    "        x2=(((-b)-r1)/(2*a))\n",
    "        print('The two square roots are',x1,x2)\n",
    "    else:\n",
    "        num_roots=1\n",
    "        x=(-b)/(2*a)\n",
    "        print('There is one root ',x)\n",
    "else:\n",
    "    num_roots=0\n",
    "    print('No roots')"
   ]
  },
  {
   "cell_type": "markdown",
   "id": "94151cea",
   "metadata": {},
   "source": [
    "19.\tCreate a Python program that checks if a given year is a century year or not using if-else."
   ]
  },
  {
   "cell_type": "code",
   "execution_count": 18,
   "id": "e48aa371",
   "metadata": {},
   "outputs": [
    {
     "name": "stdout",
     "output_type": "stream",
     "text": [
      "Enter year: 1900\n",
      "1900 is a century year.\n"
     ]
    }
   ],
   "source": [
    "year=int(input('Enter year: '))\n",
    "if year%100==0:\n",
    "    print(year,'is a century year.')\n",
    "else:\n",
    "    print(year,'is not a century year')"
   ]
  },
  {
   "cell_type": "markdown",
   "id": "a067ff75",
   "metadata": {},
   "source": [
    "20.\tWrite a Python program to determine if a given number is a perfect square using if-else."
   ]
  },
  {
   "cell_type": "code",
   "execution_count": 19,
   "id": "f13388dc",
   "metadata": {},
   "outputs": [
    {
     "name": "stdout",
     "output_type": "stream",
     "text": [
      "Enter a number to check perfect square3605\n",
      "3605 is not a perfect square.\n"
     ]
    }
   ],
   "source": [
    "import math\n",
    "num=int(input('Enter a number to check perfect square'))\n",
    "ps=int(math.sqrt(num))\n",
    "if ps*ps==num:\n",
    "    print(num,'is a perfect square of',ps)\n",
    "else:\n",
    "    print(num, 'is not a perfect square.')\n"
   ]
  },
  {
   "cell_type": "markdown",
   "id": "cf92b69e",
   "metadata": {},
   "source": [
    "21.\tExplain the purpose of the \"continue\" and \"break\" statements within if-else loops."
   ]
  },
  {
   "cell_type": "raw",
   "id": "d669caaa",
   "metadata": {},
   "source": [
    "Within if-else\n",
    "the 'continue' statement is used to skip the current iteration of the loop and\n",
    "the 'break' statement is used to break the statement the loop immediately."
   ]
  },
  {
   "cell_type": "markdown",
   "id": "8f601c30",
   "metadata": {},
   "source": [
    "22.\tCreate a Python program that calculates the BMI (Body Mass Index) of a person based on their weight and height using if-else."
   ]
  },
  {
   "cell_type": "code",
   "execution_count": 20,
   "id": "a8f37149",
   "metadata": {},
   "outputs": [
    {
     "name": "stdout",
     "output_type": "stream",
     "text": [
      "Enter the weight kilograms: 86\n",
      "Enter the height Centimeters: 163\n",
      "your bmi is 32.368549813692646 and you are obese.\n"
     ]
    }
   ],
   "source": [
    "weight=float(input('Enter the weight kilograms: '))\n",
    "height=float(input('Enter the height Centimeters: '))\n",
    "bmi=(weight/height/height)*10000\n",
    "if bmi<18.5:\n",
    "    print(f'your bmi is {bmi} and you are underweight.')\n",
    "elif 18.5<=bmi<=24.9:\n",
    "    print(f'your bmi is {bmi} and you are healthy.')\n",
    "elif 25<=bmi<=29.9:\n",
    "    print(f'your bmi is {bmi} and you are overweight.')\n",
    "else:\n",
    "    print(f'your bmi is {bmi} and you are obese.')"
   ]
  },
  {
   "cell_type": "markdown",
   "id": "cae19a0d",
   "metadata": {},
   "source": [
    "23.\tHow can you use the \"filter()\" function with if-else statements to filter elements from a list?"
   ]
  },
  {
   "cell_type": "markdown",
   "id": "4b25d929",
   "metadata": {},
   "source": [
    "filter function takes two argument:\n",
    "1.user_define function\n",
    "2.sequence which can be list,tuple,dictionary etc\n",
    "\n",
    "we can use the if-else part to check the condition eithin the function\n",
    "then we can use it with the sequence which is given\n",
    "then it will gate the proper result from the sequence.\n",
    "This is the way in which we can use the filter() function with if-else."
   ]
  },
  {
   "cell_type": "markdown",
   "id": "a41e4ccd",
   "metadata": {},
   "source": [
    "24.\tWrite a Python program to determine if a given number is prime or not using if-else."
   ]
  },
  {
   "cell_type": "code",
   "execution_count": 22,
   "id": "d1815590",
   "metadata": {},
   "outputs": [
    {
     "name": "stdout",
     "output_type": "stream",
     "text": [
      "Enter the number to check the prime: 1003\n",
      "1003 is not a prime number\n"
     ]
    }
   ],
   "source": [
    "num=int(input('Enter the number to check the prime: '))\n",
    "if num>1:\n",
    "    for i in range(2,num):\n",
    "        if num%i==0:\n",
    "            print(num,'is not a prime number')\n",
    "            break\n",
    "    else:\n",
    "        print(num,'is a prime number')\n",
    "            \n",
    "else:\n",
    "    print(num,'is not a prime number')"
   ]
  },
  {
   "cell_type": "markdown",
   "id": "2b9d6307",
   "metadata": {},
   "source": [
    "# Map :-"
   ]
  },
  {
   "cell_type": "markdown",
   "id": "ec08fde2",
   "metadata": {},
   "source": [
    "1.\tExplain the purpose of the `map()` function in Python and provide an example of how it can be used to apply a function to each element of an iterable."
   ]
  },
  {
   "cell_type": "markdown",
   "id": "8106c957",
   "metadata": {},
   "source": [
    "Python map() function is used to apply a function on all the elements of specified iterable and return map object.\n",
    "Python map object is an iterator so we can iterate over its elements.\n",
    "We can also convert map object to sequence objects such as list,tuple etc. using their factory function.\n",
    "\n",
    "syntax- map(function,iterable)\n",
    "\n",
    "example is given"
   ]
  },
  {
   "cell_type": "code",
   "execution_count": 11,
   "id": "2236df1e",
   "metadata": {},
   "outputs": [
    {
     "name": "stdout",
     "output_type": "stream",
     "text": [
      "[10, None, 12, None, 14, None, 16, None, 18]\n"
     ]
    }
   ],
   "source": [
    "def even(num):#Here this is the function\n",
    "    if num%2==0:\n",
    "        return num\n",
    "num_list=[10,11,12,13,14,15,16,17,18]#Here it is iterable\n",
    "even_num=map(even,num_list)#Here it is the map function\n",
    "print(list(even_num))"
   ]
  },
  {
   "cell_type": "markdown",
   "id": "612abc5c",
   "metadata": {},
   "source": [
    "2.\tWrite a Python program that uses the `map()` function to square each element of a list of numbers."
   ]
  },
  {
   "cell_type": "code",
   "execution_count": 56,
   "id": "2355082d",
   "metadata": {},
   "outputs": [
    {
     "name": "stdout",
     "output_type": "stream",
     "text": [
      "Enter the number of element into the list:5\n",
      "The list elements are:\n",
      "2\n",
      "4\n",
      "8\n",
      "12\n",
      "6\n",
      "The original list is: [2, 4, 8, 12, 6]\n",
      "The squares of all list elements are: [4, 16, 64, 144, 36]\n"
     ]
    }
   ],
   "source": [
    "def sqr(num):\n",
    "    return num*num\n",
    "lst=[]\n",
    "num=int(input('Enter the number of element into the list:'))\n",
    "print('The list elements are:')\n",
    "for i in range(0,num):\n",
    "    ele=int(input())\n",
    "    lst.append(ele)\n",
    "square=map(sqr,lst)\n",
    "print('The original list is:',lst)\n",
    "print('The squares of all list elements are:',list(square))"
   ]
  },
  {
   "cell_type": "markdown",
   "id": "6bdd596c",
   "metadata": {},
   "source": [
    "3.\tHow does the `map()` function differ from a list comprehension in Python, and when would you choose one over the other?"
   ]
  },
  {
   "cell_type": "markdown",
   "id": "b1d9411c",
   "metadata": {},
   "source": [
    "In map() function it takes an expression and iterables.he output will be an Iterable object where the expression will work on each element of the given Iterable where as in \n",
    "List Comphresion it is used for creating a list where each element is generated by applying a simple formula on the given list.\n",
    "\n",
    "Map function is used when it is a pre-defined function other wise the execution will be slow and other than this the execution of list comphrension takes less time."
   ]
  },
  {
   "cell_type": "markdown",
   "id": "dc3842f4",
   "metadata": {},
   "source": [
    "4.\tCreate a Python program that uses the `map()` function to convert a list of names to uppercase."
   ]
  },
  {
   "cell_type": "code",
   "execution_count": 63,
   "id": "80fa2762",
   "metadata": {},
   "outputs": [
    {
     "name": "stdout",
     "output_type": "stream",
     "text": [
      "Enter the number of lowercase names to be added to the list:5\n",
      "priya\n",
      "milan\n",
      "rabi\n",
      "kiran\n",
      "nitish\n",
      "The original list is: ['priya', 'milan', 'rabi', 'kiran', 'nitish']\n",
      "The modifed list is: ['PRIYA', 'MILAN', 'RABI', 'KIRAN', 'NITISH']\n"
     ]
    }
   ],
   "source": [
    "def uppercase(name):\n",
    "    return name.upper()\n",
    "lst=[]\n",
    "num=int(input('Enter the number of lowercase names to be added to the list:'))\n",
    "for i in range(0,num):\n",
    "    names=input()\n",
    "    lst.append(names)\n",
    "upper_case=map(uppercase,lst)\n",
    "print('The original list is:',lst)\n",
    "print('The modifed list is:',list(upper_case))"
   ]
  },
  {
   "cell_type": "markdown",
   "id": "f183ee65",
   "metadata": {},
   "source": [
    "5.\tWrite a Python program that uses the `map()` function to calculate the length of each word in a list of strings."
   ]
  },
  {
   "cell_type": "code",
   "execution_count": 67,
   "id": "c65acec8",
   "metadata": {},
   "outputs": [
    {
     "name": "stdout",
     "output_type": "stream",
     "text": [
      "enter the number of element to be added to the list:5\n",
      "The list elements are:\n",
      "pw\n",
      "python\n",
      "java\n",
      "cricket\n",
      "football\n",
      "The original list is: ['pw', 'python', 'java', 'cricket', 'football']\n",
      "The length of all the word in a list is: [2, 6, 4, 7, 8]\n"
     ]
    }
   ],
   "source": [
    "def length(n):\n",
    "    return len(n)\n",
    "lst=[]\n",
    "num=int(input('enter the number of element to be added to the list:'))\n",
    "print('The list elements are:')\n",
    "for i in range(0,num):\n",
    "    ele=input()\n",
    "    lst.append(ele)\n",
    "length_word=map(length,lst)\n",
    "print('The original list is:',lst)\n",
    "print('The length of all the word in a list is:',list(length_word))"
   ]
  },
  {
   "cell_type": "markdown",
   "id": "2f4b30d6",
   "metadata": {},
   "source": [
    "6.\tHow can you use the `map()` function to apply a custom function to elements of multiple lists simultaneously in Python?"
   ]
  },
  {
   "cell_type": "markdown",
   "id": "2ff49ed4",
   "metadata": {},
   "source": [
    " If you want to apply a custom function to elements of multiple lists simultaneously, you can use the map() function in combination with multiple lists.\n",
    " \n",
    " syntax- map(function,iterable1,iterable2,iterable3)"
   ]
  },
  {
   "cell_type": "markdown",
   "id": "8b8e4b6e",
   "metadata": {},
   "source": [
    "7.\tCreate a Python program that uses `map()` to convert a list of temperatures from Celsius to Fahrenheit."
   ]
  },
  {
   "cell_type": "code",
   "execution_count": 1,
   "id": "8362d7cb",
   "metadata": {},
   "outputs": [
    {
     "name": "stdout",
     "output_type": "stream",
     "text": [
      "enter the number of elements to be converted from celcius to Fahreinheit:5\n",
      "The list elements are:\n",
      "33\n",
      "12\n",
      "7\n",
      "49\n",
      "24\n",
      "The original list is: [33, 12, 7, 49, 24]\n",
      "The Converted temperature list is: [91.4, 53.6, 44.6, 120.2, 75.2]\n"
     ]
    }
   ],
   "source": [
    "def convert(cel):\n",
    "    temp=(cel*9/5)+32\n",
    "    return temp\n",
    "lst=[]\n",
    "num=int(input('enter the number of elements to be converted from celcius to Fahreinheit:'))\n",
    "print('The list elements are:')\n",
    "for i in range(0,num):\n",
    "    ele=int(input())\n",
    "    lst.append(ele)\n",
    "temp=map(convert,lst)\n",
    "print('The original list is:',lst)\n",
    "print('The Converted temperature list is:',list(temp))"
   ]
  },
  {
   "cell_type": "markdown",
   "id": "725bee30",
   "metadata": {},
   "source": [
    "8.\tWrite a Python program that uses the `map()` function to round each element of a list of floating-point numbers to the nearest integer."
   ]
  },
  {
   "cell_type": "code",
   "execution_count": 4,
   "id": "0e5ac7a6",
   "metadata": {},
   "outputs": [
    {
     "name": "stdout",
     "output_type": "stream",
     "text": [
      "enter the number of floating point elements to be converted to the nearest integer:5\n",
      "The list elements are:\n",
      "12.5\n",
      "23.7\n",
      "1345.89\n",
      "34.29\n",
      "114.45\n",
      "The original list is: [12.5, 23.7, 1345.89, 34.29, 114.45]\n",
      "The Converted integer list is: [12, 23, 1345, 34, 114]\n"
     ]
    }
   ],
   "source": [
    "def integer(num):\n",
    "    return int(num)\n",
    "lst=[]\n",
    "num=int(input('enter the number of floating point elements to be converted to the nearest integer:'))\n",
    "print('The list elements are:')\n",
    "for i in range(0,num):\n",
    "    ele=float(input())\n",
    "    lst.append(ele)\n",
    "convert=map(integer,lst)\n",
    "print('The original list is:',lst)\n",
    "print('The Converted integer list is:',list(convert))"
   ]
  },
  {
   "cell_type": "markdown",
   "id": "5bcf99ad",
   "metadata": {},
   "source": [
    "# Reduce :-"
   ]
  },
  {
   "cell_type": "markdown",
   "id": "1c6958d9",
   "metadata": {},
   "source": [
    "1.\tWhat is the `reduce()` function in Python, and what module should you import to use it? Provide an example of its basic usage."
   ]
  },
  {
   "cell_type": "markdown",
   "id": "5566e026",
   "metadata": {},
   "source": [
    "The reduce() function is used to apply a particular function passed in its argument to all of the list elements mentioned in the sequence passed along.\n",
    "We should import functools module to use it.\n",
    "syntax- reduce(function,sequence)\n",
    "example-"
   ]
  },
  {
   "cell_type": "code",
   "execution_count": 12,
   "id": "c36c1ab5",
   "metadata": {},
   "outputs": [
    {
     "name": "stdout",
     "output_type": "stream",
     "text": [
      "15\n"
     ]
    }
   ],
   "source": [
    "from functools import reduce#Here it is imported\n",
    "def add(a,b):#Here the function is written\n",
    "    return a+b\n",
    "num=[1,2,3,4,5]#sequence\n",
    "sum=reduce(add,num)#Use of reduce\n",
    "print(sum)"
   ]
  },
  {
   "cell_type": "markdown",
   "id": "c6e4248c",
   "metadata": {},
   "source": [
    "2.\tWrite a Python program that uses the `reduce()` function to find the product of all elements in a list."
   ]
  },
  {
   "cell_type": "code",
   "execution_count": 6,
   "id": "f69cf967",
   "metadata": {},
   "outputs": [
    {
     "name": "stdout",
     "output_type": "stream",
     "text": [
      "Enter the number of elements to be added to the list: 5\n",
      "The list elements are:\n",
      "2\n",
      "4\n",
      "8\n",
      "2\n",
      "3\n",
      "The original list is: [2, 4, 8, 2, 3]\n",
      "The product of all elements in the list are: 384\n"
     ]
    }
   ],
   "source": [
    "from functools import reduce\n",
    "def prod(a,b):\n",
    "    return a*b\n",
    "lst=[]\n",
    "num=int(input('Enter the number of elements to be added to the list: '))\n",
    "print('The list elements are:')\n",
    "for i in range(0,num):\n",
    "    ele=int(input())\n",
    "    lst.append(ele)\n",
    "res=reduce(prod,lst)\n",
    "print('The original list is:',lst)\n",
    "print('The product of all elements in the list are:',res)"
   ]
  },
  {
   "cell_type": "markdown",
   "id": "e62e6add",
   "metadata": {},
   "source": [
    "3.\tCreate a Python program that uses `reduce()` to find the maximum element in a list of numbers."
   ]
  },
  {
   "cell_type": "code",
   "execution_count": 7,
   "id": "91ddb140",
   "metadata": {},
   "outputs": [
    {
     "name": "stdout",
     "output_type": "stream",
     "text": [
      "Enter the number of elements to be added to the list: 5\n",
      "The list elements are:\n",
      "12\n",
      "45\n",
      "1234\n",
      "67\n",
      "300\n",
      "The original list is: [12, 45, 1234, 67, 300]\n",
      "The maximum element in the list is: 1234\n"
     ]
    }
   ],
   "source": [
    "from functools import reduce\n",
    "def max_list(a,b):\n",
    "    return max(a,b)\n",
    "lst=[]\n",
    "num=int(input('Enter the number of elements to be added to the list: '))\n",
    "print('The list elements are:')\n",
    "for i in range(0,num):\n",
    "    ele=int(input())\n",
    "    lst.append(ele)\n",
    "res=reduce(max_list,lst)\n",
    "print('The original list is:',lst)\n",
    "print('The maximum element in the list is:',res)"
   ]
  },
  {
   "cell_type": "markdown",
   "id": "5387f8b6",
   "metadata": {},
   "source": [
    "4.\tHow can you use the `reduce()` function to concatenate a list of strings into a single string?"
   ]
  },
  {
   "cell_type": "markdown",
   "id": "e246f544",
   "metadata": {},
   "source": [
    "You can use the reduce() function to concatenate a list of strings into a single string by providing a function that concatenates two strings.\n",
    "example-"
   ]
  },
  {
   "cell_type": "code",
   "execution_count": 13,
   "id": "5668944d",
   "metadata": {},
   "outputs": [
    {
     "name": "stdout",
     "output_type": "stream",
     "text": [
      "hello! world\n"
     ]
    }
   ],
   "source": [
    "from functools import reduce\n",
    "string_list=[\"hello\",'! ','world']\n",
    "string=reduce(lambda x,y:x+y,string_list)\n",
    "print(string)"
   ]
  },
  {
   "cell_type": "markdown",
   "id": "8d26d3e7",
   "metadata": {},
   "source": [
    "In this example, the lambda function takes two arguments (x and y) and concatenates them using the + operator. The reduce() function applies this function cumulatively to the elements of the string_list, resulting in a single concatenated string."
   ]
  },
  {
   "cell_type": "markdown",
   "id": "6953d216",
   "metadata": {},
   "source": [
    "5.\tWrite a Python program that calculates the factorial of a number using the `reduce()` function."
   ]
  },
  {
   "cell_type": "code",
   "execution_count": 12,
   "id": "a5a11aac",
   "metadata": {},
   "outputs": [
    {
     "name": "stdout",
     "output_type": "stream",
     "text": [
      "Enter a number for factorial:5\n",
      "The factorial of 5 is 120\n"
     ]
    }
   ],
   "source": [
    "from functools import reduce\n",
    "num=int(input('Enter a number for factorial:'))\n",
    "res=reduce(lambda x,y:x*y,range(1,num+1))\n",
    "print(f'The factorial of {num} is {res}')"
   ]
  },
  {
   "cell_type": "markdown",
   "id": "a437bf13",
   "metadata": {},
   "source": [
    "6.\tCreate a Python program that uses `reduce()` to find the GCD (Greatest Common Divisor) of a list of numbers."
   ]
  },
  {
   "cell_type": "code",
   "execution_count": 13,
   "id": "3f10d024",
   "metadata": {},
   "outputs": [
    {
     "name": "stdout",
     "output_type": "stream",
     "text": [
      "Enter the number of elements to be added to the list: 3\n",
      "The list elements are:\n",
      "8\n",
      "24\n",
      "36\n",
      "The original list is [8, 24, 36]\n",
      "The Gcd of all list element is: 4\n"
     ]
    }
   ],
   "source": [
    "from functools import reduce\n",
    "def gcd(num1,num2):\n",
    "    for i in range(1,min(num1,num2)+1):\n",
    "        if num1%i==0 and num2%i==0:\n",
    "            gcd=i\n",
    "    return gcd\n",
    "lst=[]\n",
    "num=int(input('Enter the number of elements to be added to the list: '))\n",
    "print('The list elements are:')\n",
    "for i in range(0,num):\n",
    "    ele=int(input())\n",
    "    lst.append(ele)\n",
    "res=reduce(gcd,lst)\n",
    "print('The original list is',lst)\n",
    "print('The Gcd of all list element is:',res)"
   ]
  },
  {
   "cell_type": "markdown",
   "id": "4ca784af",
   "metadata": {},
   "source": [
    "7.\tWrite a Python program that uses the `reduce()` function to find the sum of the digits of a given number."
   ]
  },
  {
   "cell_type": "code",
   "execution_count": 17,
   "id": "b5490242",
   "metadata": {},
   "outputs": [
    {
     "name": "stdout",
     "output_type": "stream",
     "text": [
      "Enter a number for to get sum of the digits:456\n",
      "The sum of digits of 456 is 15\n"
     ]
    }
   ],
   "source": [
    "from functools import reduce\n",
    "def sum_digits(a,b):\n",
    "    return a+b\n",
    "\n",
    "num=int(input('Enter a number for to get sum of the digits:'))\n",
    "num1=num\n",
    "lst=[]\n",
    "while num > 0:\n",
    "    temp = num % 10\n",
    "    lst.append(temp)\n",
    "    num = num // 10\n",
    "    \n",
    "res=reduce(sum_digits,lst)\n",
    "print(f'The sum of digits of {num1} is {res}')\n"
   ]
  },
  {
   "cell_type": "markdown",
   "id": "8d82b552",
   "metadata": {},
   "source": [
    "# Filter :-"
   ]
  },
  {
   "cell_type": "markdown",
   "id": "35268bdd",
   "metadata": {},
   "source": [
    "1.\tExplain the purpose of the `filter()` function in Python and provide an example of how it can be used to filter elements from an iterable."
   ]
  },
  {
   "cell_type": "markdown",
   "id": "a5c04ebe",
   "metadata": {},
   "source": [
    "The filter() function in Python is used to construct an iterator from elements of an iterable for which a function returns true. In other words, it filters out elements from an iterable based on a specified function or condition.\n",
    "\n",
    "The syntax- filter(function, iterable)\n",
    "\n",
    "Example-"
   ]
  },
  {
   "cell_type": "code",
   "execution_count": 2,
   "id": "e4f313cb",
   "metadata": {},
   "outputs": [
    {
     "name": "stdout",
     "output_type": "stream",
     "text": [
      "[2, 4, 6, 8, 10]\n"
     ]
    }
   ],
   "source": [
    "def is_even(n):\n",
    "    return n % 2 == 0\n",
    "\n",
    "numbers = [1, 2, 3, 4, 5, 6, 7, 8, 9, 10]\n",
    "filtered_numbers = filter(is_even, numbers)\n",
    "result = list(filtered_numbers)\n",
    "print(result)"
   ]
  },
  {
   "cell_type": "markdown",
   "id": "9bd7b314",
   "metadata": {},
   "source": [
    "In this example, the is even function is used as the filtering criteria. The filter() function applies this function to each element in the numbers list, and only the elements for which is even returns True are included in the result."
   ]
  },
  {
   "cell_type": "markdown",
   "id": "65d4ca82",
   "metadata": {},
   "source": [
    "2.\tWrite a Python program that uses the `filter()` function to select even numbers from a list of integers."
   ]
  },
  {
   "cell_type": "code",
   "execution_count": 18,
   "id": "88f79987",
   "metadata": {},
   "outputs": [
    {
     "name": "stdout",
     "output_type": "stream",
     "text": [
      "Enter the number of elements to be added to the list: 5\n",
      "The list elements are:\n",
      "1\n",
      "134\n",
      "12\n",
      "45\n",
      "66\n",
      "The original list is: [1, 134, 12, 45, 66]\n",
      "The list of even numbers from that list is: [134, 12, 66]\n"
     ]
    }
   ],
   "source": [
    "def even(n):\n",
    "    if n%2==0:\n",
    "        return n\n",
    "lst=[]\n",
    "num=int(input('Enter the number of elements to be added to the list: '))\n",
    "print('The list elements are:')\n",
    "for i in range(0,num):\n",
    "    ele=int(input())\n",
    "    lst.append(ele)\n",
    "res=filter(even,lst)\n",
    "print('The original list is:',lst)\n",
    "print('The list of even numbers from that list is:',list(res))"
   ]
  },
  {
   "cell_type": "markdown",
   "id": "2a63199d",
   "metadata": {},
   "source": [
    "3.\tCreate a Python program that uses the `filter()` function to select names that start with a specific letter from a list of strings."
   ]
  },
  {
   "cell_type": "code",
   "execution_count": 19,
   "id": "2fba4315",
   "metadata": {},
   "outputs": [
    {
     "name": "stdout",
     "output_type": "stream",
     "text": [
      "Enter the number of element to be added to the list:5\n",
      "priya\n",
      "milan\n",
      "pratyush\n",
      "kiran\n",
      "nitish\n",
      "Enter the first letter through which we will get a specific name:p\n",
      "The list of names started from p are ['priya', 'pratyush']\n"
     ]
    }
   ],
   "source": [
    "lst=[]\n",
    "num=int(input('Enter the number of element to be added to the list:'))\n",
    "for i in range(0,num):\n",
    "    ele=input()\n",
    "    lst.append(ele)\n",
    "fl=input('Enter the first letter through which we will get a specific name:')\n",
    "res=list(filter(lambda x:x[0]==fl,lst))\n",
    "print(f'The list of names started from {fl} are {res}')"
   ]
  },
  {
   "cell_type": "markdown",
   "id": "d0b6b4f4",
   "metadata": {},
   "source": [
    "4.\tWrite a Python program that uses the `filter()` function to select prime numbers from a list of integers."
   ]
  },
  {
   "cell_type": "code",
   "execution_count": 20,
   "id": "97271cea",
   "metadata": {},
   "outputs": [
    {
     "name": "stdout",
     "output_type": "stream",
     "text": [
      "Enter the number of element to be added to the list:5\n",
      "The elements are:\n",
      "3\n",
      "6\n",
      "9\n",
      "13\n",
      "23\n",
      "The orginal list is: [3, 6, 9, 13, 23]\n",
      "The prime numbers from the original list are: [3, 13, 23]\n"
     ]
    }
   ],
   "source": [
    "def prime(n):\n",
    "    if n==1:\n",
    "        return False\n",
    "    elif n>1:\n",
    "        for i in range(2,n):\n",
    "            if n%i==0:\n",
    "                return False\n",
    "                break\n",
    "        else:\n",
    "            return n\n",
    "\n",
    "lst=[]\n",
    "num=int(input('Enter the number of element to be added to the list:'))\n",
    "print('The elements are:')\n",
    "for i in range(0,num):\n",
    "    ele=int(input())\n",
    "    lst.append(ele)\n",
    "res=list(filter(prime,lst))\n",
    "print('The orginal list is:',lst)\n",
    "print('The prime numbers from the original list are:',res)"
   ]
  },
  {
   "cell_type": "markdown",
   "id": "d85d99fa",
   "metadata": {},
   "source": [
    "5.\tHow can you use the `filter()` function to remove None values from a list in Python?"
   ]
  },
  {
   "cell_type": "markdown",
   "id": "f9b2177b",
   "metadata": {},
   "source": [
    "You can use the filter() function to remove None values from a list by providing a filtering function that returns True for non-None values and False for None.\n",
    "Example-"
   ]
  },
  {
   "cell_type": "code",
   "execution_count": 3,
   "id": "b21dbd72",
   "metadata": {},
   "outputs": [
    {
     "name": "stdout",
     "output_type": "stream",
     "text": [
      "[1, 3, 4, 6, 8]\n"
     ]
    }
   ],
   "source": [
    "my_list = [1, None, 3, 4, None, 6, None, 8]\n",
    "\n",
    "def filter_none(value):\n",
    "    return value is not None\n",
    "\n",
    "filtered_list = filter(filter_none, my_list)\n",
    "result = list(filtered_list)\n",
    "print(result)"
   ]
  },
  {
   "cell_type": "markdown",
   "id": "615e37ad",
   "metadata": {},
   "source": [
    "In this example, the filter_none function returns True for non-None values and False for None. The filter() function then applies this filtering function to each element in the my_list, including only those elements for which filter_none returns True. The final result is a list without None values."
   ]
  },
  {
   "cell_type": "markdown",
   "id": "796e0303",
   "metadata": {},
   "source": [
    "6.\tCreate a Python program that uses `filter()` to select words longer than a certain length from a list of strings."
   ]
  },
  {
   "cell_type": "code",
   "execution_count": 14,
   "id": "4c0cf55e",
   "metadata": {},
   "outputs": [
    {
     "name": "stdout",
     "output_type": "stream",
     "text": [
      "Enter a length of words:4\n",
      "The words greater than 4 from this list: ['hello', 'everybody', 'nobody', 'pwskills']\n"
     ]
    }
   ],
   "source": [
    "long=int(input('Enter a length of words:'))\n",
    "def length(string_list):\n",
    "    newlist=[]\n",
    "    if len(string_list)>long:\n",
    "        newlist.append(string_list)\n",
    "    return newlist\n",
    "\n",
    "\n",
    "string_list=['hello','This','That','everybody','nobody','hi','pw','pwskills']\n",
    "res=list(filter(length,string_list))\n",
    "print(f'The words greater than {long} from this list:',res)"
   ]
  },
  {
   "cell_type": "markdown",
   "id": "7f780615",
   "metadata": {},
   "source": [
    "7.\tWrite a Python program that uses the `filter()` function to select elements greater than a specified threshold from a list of values."
   ]
  },
  {
   "cell_type": "code",
   "execution_count": 1,
   "id": "149a8aca",
   "metadata": {},
   "outputs": [
    {
     "name": "stdout",
     "output_type": "stream",
     "text": [
      "Values greater than 8: [10, 12, 15]\n"
     ]
    }
   ],
   "source": [
    "threshold = 8\n",
    "def thres_ele(values):\n",
    "\n",
    "    num_list = []\n",
    "    if values>threshold:\n",
    "        num_list.append(values)\n",
    "    return num_list\n",
    "\n",
    "\n",
    "values = [10, 5, 8, 12, 3, 15, 7]\n",
    "res=list(filter(thres_ele,values))\n",
    "print(f\"Values greater than {threshold}: {res}\")"
   ]
  },
  {
   "cell_type": "markdown",
   "id": "9d44b2de",
   "metadata": {},
   "source": [
    "# Recursion:-"
   ]
  },
  {
   "cell_type": "markdown",
   "id": "0fb1f89f",
   "metadata": {},
   "source": [
    "1.\tExplain the concept of recursion in Python. How does it differ from iteration?"
   ]
  },
  {
   "cell_type": "markdown",
   "id": "d12c00a5",
   "metadata": {},
   "source": [
    "Recursion is a programming concept where a function calls itself in its own definition. In Python, a recursive function is a function that calls itself to solve a smaller instance of the same problem. Recursion provides an alternative to iteration for solving problems by breaking them down into smaller, more manageable subproblems.\n",
    "\n",
    "In iteration it uses loops to repeatedly execute a set of statements, while reccursion involves a function calling itself to breakdown a problem into smaller instances untill a base case is reached."
   ]
  },
  {
   "cell_type": "markdown",
   "id": "2940b6f5",
   "metadata": {},
   "source": [
    "2.\tWrite a Python program to calculate the factorial of a number using recursion."
   ]
  },
  {
   "cell_type": "code",
   "execution_count": 25,
   "id": "86050389",
   "metadata": {},
   "outputs": [
    {
     "name": "stdout",
     "output_type": "stream",
     "text": [
      "Enter a number for factorial: 6\n",
      "The factorial of 6 is 720\n"
     ]
    }
   ],
   "source": [
    "def fact(n):\n",
    "    if n==0:\n",
    "        return 1\n",
    "    else:\n",
    "        return n*fact(n-1)\n",
    "num=int(input('Enter a number for factorial: '))\n",
    "print(f'The factorial of {num} is {fact(num)}')"
   ]
  },
  {
   "cell_type": "markdown",
   "id": "8bc2049e",
   "metadata": {},
   "source": [
    "3.\tCreate a recursive Python function to find the nth Fibonacci number."
   ]
  },
  {
   "cell_type": "code",
   "execution_count": 11,
   "id": "fe9f4631",
   "metadata": {},
   "outputs": [
    {
     "name": "stdout",
     "output_type": "stream",
     "text": [
      "Enter a number to get the nth Fibonacci number: 7\n",
      "The 7th fibonacci number: 13\n"
     ]
    }
   ],
   "source": [
    "def fibonacci(num):\n",
    "    if num<=1:\n",
    "        return num\n",
    "    else:\n",
    "        return fibonacci(num-1)+fibonacci(num-2)\n",
    "\n",
    "num=int(input('Enter a number to get the nth Fibonacci number: '))\n",
    "res=fibonacci(num)\n",
    "print(f'The {num}th fibonacci number:',res)"
   ]
  },
  {
   "cell_type": "markdown",
   "id": "b25b7573",
   "metadata": {},
   "source": [
    "4.\tWrite a recursive Python function to calculate the sum of all elements in a list."
   ]
  },
  {
   "cell_type": "code",
   "execution_count": 13,
   "id": "95aac7c1",
   "metadata": {},
   "outputs": [
    {
     "name": "stdout",
     "output_type": "stream",
     "text": [
      "The sum of all elements of [45, 32, 78, 123, 56, 90, 11, 99] : 534\n"
     ]
    }
   ],
   "source": [
    "def count(lst):\n",
    "    if len(lst)==1:\n",
    "        return lst[0]\n",
    "    else:\n",
    "        return lst[0]+count(lst[1:])\n",
    "lst=[45,32,78,123,56,90,11,99]\n",
    "res=count(lst)\n",
    "print(f'The sum of all elements of {lst} :',res)"
   ]
  },
  {
   "cell_type": "markdown",
   "id": "4f8c02d5",
   "metadata": {},
   "source": [
    "5.\tHow can you prevent a recursive function from running indefinitely, causing a stack overflow error?"
   ]
  },
  {
   "cell_type": "markdown",
   "id": "8667092c",
   "metadata": {},
   "source": [
    "To prevent a recursive function from running indefinitely and causing a stack overflow error, you should include a base case in your recursive function. The base case is a condition that, when met, stops the recursive calls and returns a result."
   ]
  },
  {
   "cell_type": "markdown",
   "id": "4826b873",
   "metadata": {},
   "source": [
    "6.\tCreate a recursive Python function to find the greatest common divisor (GCD) of two numbers using the Euclidean algorithm."
   ]
  },
  {
   "cell_type": "code",
   "execution_count": 2,
   "id": "b55c0ec7",
   "metadata": {},
   "outputs": [
    {
     "name": "stdout",
     "output_type": "stream",
     "text": [
      "Enter the first number: 98\n",
      "Enter the second number: 56\n",
      "The gcd of 98 & 56 is 14\n"
     ]
    }
   ],
   "source": [
    "def gcd(num1,num2):\n",
    "    if(num1==0):\n",
    "        return num2\n",
    "    elif(num2==0):\n",
    "        return num1\n",
    "    elif(num1>num2):\n",
    "        return gcd(num1-num2,num2)\n",
    "    else:\n",
    "        return gcd(num1,num2-num1)\n",
    "    \n",
    "num1=int(input('Enter the first number: '))\n",
    "num2=int(input('Enter the second number: '))\n",
    "\n",
    "res=gcd(num1,num2)\n",
    "print(f'The gcd of {num1} & {num2} is {res}')"
   ]
  },
  {
   "cell_type": "markdown",
   "id": "f262cc9c",
   "metadata": {},
   "source": [
    "7.\tWrite a recursive Python function to reverse a string."
   ]
  },
  {
   "cell_type": "code",
   "execution_count": 2,
   "id": "f0d86d30",
   "metadata": {},
   "outputs": [
    {
     "name": "stdout",
     "output_type": "stream",
     "text": [
      "Original String: I am a boy\n",
      "The reversed string: yob a ma I\n"
     ]
    }
   ],
   "source": [
    "def rev_string(string,length):\n",
    "    if length<1:\n",
    "        return ''\n",
    "    elif length==1:\n",
    "        return string[0]\n",
    "    else:\n",
    "        return string[length-1]+rev_string(string,length-1)\n",
    "string='I am a boy'\n",
    "print('Original String:',string)\n",
    "length=len(string)\n",
    "res=rev_string(string,length)\n",
    "print('The reversed string:',res)"
   ]
  },
  {
   "cell_type": "markdown",
   "id": "f3c8e5f5",
   "metadata": {},
   "source": [
    "8.\tCreate a recursive Python function to calculate the power of a number (x^n)."
   ]
  },
  {
   "cell_type": "code",
   "execution_count": 7,
   "id": "33437de2",
   "metadata": {},
   "outputs": [
    {
     "name": "stdout",
     "output_type": "stream",
     "text": [
      "enter a number:5\n",
      "Enter the power:2\n",
      "The power 2 of 5 is: 25\n"
     ]
    }
   ],
   "source": [
    "def power_num(num,power):\n",
    "    if power==0:\n",
    "        return 1\n",
    "    elif power==1:\n",
    "        return num\n",
    "    else:\n",
    "        if power%2==0:\n",
    "            return power_num(num,power//2)*power_num(num,power//2)\n",
    "        else:\n",
    "            return num*power_num(num,power//2)*power_num(num,power//2)\n",
    "\n",
    "num=int(input('enter a number:'))\n",
    "power=int(input('Enter the power:'))\n",
    "res=power_num(num,power)\n",
    "print(f'The power {power} of {num} is:',res)"
   ]
  },
  {
   "cell_type": "markdown",
   "id": "a4870e5c",
   "metadata": {},
   "source": [
    "9.\tWrite a recursive Python function to find all permutations of a given string."
   ]
  },
  {
   "cell_type": "code",
   "execution_count": 21,
   "id": "7e8fbc7b",
   "metadata": {},
   "outputs": [
    {
     "name": "stdout",
     "output_type": "stream",
     "text": [
      "All the permutations of abc is\n",
      "abc\n",
      "bac\n",
      "acb\n",
      "bca\n",
      "cba\n",
      "cab\n"
     ]
    }
   ],
   "source": [
    "def permutation(string):\n",
    "    str_permutation = []\n",
    "    if len(string)==1:\n",
    "        return [string]\n",
    "\n",
    "    else:\n",
    "        for i in range(len(string)):\n",
    "            fixed_char=string[i]\n",
    "            remaining_chars=string[:i]+string[i+1:]\n",
    "            for perm in permutation(remaining_chars):\n",
    "                str_permutation.append(fixed_char+perm)\n",
    "        return str_permutation\n",
    "string='abc'\n",
    "permutation_list=permutation(string)\n",
    "final_list=set(permutation_list)\n",
    "print(f'All the permutations of {string} is')\n",
    "for i in final_list:\n",
    "    print(i)"
   ]
  },
  {
   "cell_type": "markdown",
   "id": "eb6b3885",
   "metadata": {},
   "source": [
    "10.\tWrite a recursive Python function to check if a string is a palindrome."
   ]
  },
  {
   "cell_type": "code",
   "execution_count": 9,
   "id": "fda29c73",
   "metadata": {},
   "outputs": [
    {
     "name": "stdout",
     "output_type": "stream",
     "text": [
      "Enter a string: liril\n",
      "liril is a palindrome string.\n"
     ]
    }
   ],
   "source": [
    "def palindrome(string,length):\n",
    "    if length<1:\n",
    "        return ''\n",
    "    elif length==1:\n",
    "        return string[0]\n",
    "    else:\n",
    "        return string[length-1]+palindrome(string,length-1)\n",
    "    \n",
    "string=input('Enter a string: ')\n",
    "length=len(string)\n",
    "\n",
    "if string==palindrome(string,length):\n",
    "    print(string,'is a palindrome string.')\n",
    "else:\n",
    "    print(string,'is not a palindrome string')"
   ]
  },
  {
   "cell_type": "markdown",
   "id": "64eb59d7",
   "metadata": {},
   "source": [
    "11.\tCreate a recursive Python function to generate all possible combinations of a list of elements."
   ]
  },
  {
   "cell_type": "code",
   "execution_count": 26,
   "id": "63b80b05",
   "metadata": {},
   "outputs": [
    {
     "name": "stdout",
     "output_type": "stream",
     "text": [
      "All possible combinations are: [[], [2], [3], [2, 3], [4], [2, 4], [3, 4], [2, 3, 4]]\n"
     ]
    }
   ],
   "source": [
    "def all_combination(nums):\n",
    "    result = []\n",
    "    if not nums:\n",
    "        return [[]]\n",
    "    else:\n",
    "        for i in all_combination(nums[1:]):\n",
    "            result.append(i)\n",
    "            result.append([nums[0]] + i)\n",
    "        return result\n",
    "num_list= [2,3,4]\n",
    "res=all_combination(num_list)\n",
    "print('All possible combinations are:',res)"
   ]
  },
  {
   "cell_type": "markdown",
   "id": "b4e9ec5d",
   "metadata": {},
   "source": [
    "# Basics of Functions:"
   ]
  },
  {
   "cell_type": "markdown",
   "id": "6145e4a5",
   "metadata": {},
   "source": [
    "1.\tWhat is a function in Python, and why is it used?"
   ]
  },
  {
   "cell_type": "markdown",
   "id": "396dc519",
   "metadata": {},
   "source": [
    "In Python, a function is a block of reusable code that performs a specific task or set of tasks. Functions are defined using the def keyword, followed by the function name, a pair of parentheses, and a colon. The body of the function is then indented.\n",
    "\n",
    "It is used for several important reasons like-\n",
    "Code reusibility,\n",
    "Modularity,\n",
    "Abstraction,\n",
    "encapsulation,\n",
    "parameter passing,\n",
    "scoping etc."
   ]
  },
  {
   "cell_type": "markdown",
   "id": "14ab2697",
   "metadata": {},
   "source": [
    "2.\tHow do you define a function in Python? Provide an example."
   ]
  },
  {
   "cell_type": "markdown",
   "id": "f5bf77d4",
   "metadata": {},
   "source": [
    "In Python, you define a function using the def keyword, followed by the function name, a pair of parentheses which may include parameters, and a colon. The body of the function is indented, and it contains the code that the function executes.\n",
    "\n",
    "Example-"
   ]
  },
  {
   "cell_type": "code",
   "execution_count": 5,
   "id": "e12a334f",
   "metadata": {},
   "outputs": [
    {
     "name": "stdout",
     "output_type": "stream",
     "text": [
      "Hello Priya\n"
     ]
    }
   ],
   "source": [
    "def hello(name):#Here using the def the function is defined with a parameter and hello is the function name\n",
    "    return 'Hello '+name#The indented defines the block of code\n",
    "name='Priya'\n",
    "res=hello(name)#here the function is called\n",
    "print(res)"
   ]
  },
  {
   "cell_type": "markdown",
   "id": "99144906",
   "metadata": {},
   "source": [
    "3.\tExplain the difference between a function definition and a function call."
   ]
  },
  {
   "cell_type": "markdown",
   "id": "92808960",
   "metadata": {},
   "source": [
    "Function defination:-The function definition is the part of the code where you specify what the function does, what parameters it takes, and what value it returns.\n",
    "Function Call:- A function call is the point in your code where you instruct the program to execute the code within a specific function. It is where you provide the actual values (arguments) for the function's parameters."
   ]
  },
  {
   "cell_type": "markdown",
   "id": "c4ea3146",
   "metadata": {},
   "source": [
    "4.\tWrite a Python program that defines a function to calculate the sum of two numbers and then calls the function."
   ]
  },
  {
   "cell_type": "code",
   "execution_count": 22,
   "id": "18c259c2",
   "metadata": {},
   "outputs": [
    {
     "name": "stdout",
     "output_type": "stream",
     "text": [
      "Enter first number: 23\n",
      "Enter second number: 45\n",
      "The sum of two number is: 68\n"
     ]
    }
   ],
   "source": [
    "def add(a,b):\n",
    "    return a+b\n",
    "num1=int(input('Enter first number: '))\n",
    "num2=int(input('Enter second number: '))\n",
    "print('The sum of two number is:',add(num1,num2))"
   ]
  },
  {
   "cell_type": "markdown",
   "id": "23b80502",
   "metadata": {},
   "source": [
    "5.\tWhat is a function signature, and what information does it typically include?"
   ]
  },
  {
   "cell_type": "markdown",
   "id": "65fc1241",
   "metadata": {},
   "source": [
    "A function signature in programming refers to the declaration of a function, which includes essential information about the function's name, parameters, and return type.\n",
    "It provides a concise summary of the function's interface, helping developers understand how to use the function correctly.\n",
    "The function signature typically includes the following components:\n",
    "1.Function name\n",
    "2.Parameter\n",
    "3.return type"
   ]
  },
  {
   "cell_type": "markdown",
   "id": "c1396247",
   "metadata": {},
   "source": [
    "6.\tCreate a Python function that takes two arguments and returns their product."
   ]
  },
  {
   "cell_type": "code",
   "execution_count": 23,
   "id": "04710051",
   "metadata": {},
   "outputs": [
    {
     "name": "stdout",
     "output_type": "stream",
     "text": [
      "Enter first number: 23\n",
      "Enter the second number: 3\n",
      "The product of two numbers are: 69\n"
     ]
    }
   ],
   "source": [
    "def prod(a,b):\n",
    "    return a*b\n",
    "num1=int(input('Enter first number: '))\n",
    "num2=int(input('Enter the second number: '))\n",
    "print('The product of two numbers are:',prod(num1,num2))"
   ]
  },
  {
   "cell_type": "markdown",
   "id": "eca2376c",
   "metadata": {},
   "source": [
    "# Function Parameters and Arguments:"
   ]
  },
  {
   "cell_type": "markdown",
   "id": "908eca55",
   "metadata": {},
   "source": [
    "1.\tExplain the concepts of formal parameters and actual arguments in Python functions."
   ]
  },
  {
   "cell_type": "markdown",
   "id": "42c30694",
   "metadata": {},
   "source": [
    "Formal Parameters:-Formal parameters are the variables listed inside the parentheses of a function definition. They act as placeholders for the values that will be provided as input when the function is called.\n",
    "\n",
    "Actual arguments:- Actual arguments, also known as arguments or parameters, are the values passed to a function during its invocation. These are the real data that the function works with."
   ]
  },
  {
   "cell_type": "markdown",
   "id": "01174291",
   "metadata": {},
   "source": [
    "2.\tWrite a Python program that defines a function with default argument values."
   ]
  },
  {
   "cell_type": "code",
   "execution_count": 3,
   "id": "4bece394",
   "metadata": {},
   "outputs": [
    {
     "name": "stdout",
     "output_type": "stream",
     "text": [
      "Here the addition of num with 5 is 20\n"
     ]
    }
   ],
   "source": [
    "def sum(num1,num2=5):\n",
    "    return num1+num2\n",
    "num1=15\n",
    "res=sum(num1)\n",
    "print('Here the addition of num with 5 is',res)"
   ]
  },
  {
   "cell_type": "markdown",
   "id": "db3f4120",
   "metadata": {},
   "source": [
    "3.\tHow do you use keyword arguments in Python function calls? Provide an example."
   ]
  },
  {
   "cell_type": "markdown",
   "id": "27a2cfc5",
   "metadata": {},
   "source": [
    "In Python, you can use keyword arguments to pass values to a function by explicitly specifying the parameter names along with their corresponding values. This allows you to provide values for specific parameters in any order, regardless of the order in which they are defined in the function's signature.\n",
    "\n",
    "Example-"
   ]
  },
  {
   "cell_type": "code",
   "execution_count": 4,
   "id": "f6b7d39b",
   "metadata": {},
   "outputs": [
    {
     "name": "stdout",
     "output_type": "stream",
     "text": [
      "The youngest child is Kiran\n"
     ]
    }
   ],
   "source": [
    "def my_function(child3, child2, child1):#function defination\n",
    "  print(\"The youngest child is \" + child3)\n",
    "\n",
    "my_function(child1 = \"Priya\", child2 = \"Milan\", child3 = \"Kiran\")#here it is using keywords arguments to call the function"
   ]
  },
  {
   "cell_type": "markdown",
   "id": "0b790e18",
   "metadata": {},
   "source": [
    "4.\tCreate a Python function that accepts a variable number of arguments and calculates their sum."
   ]
  },
  {
   "cell_type": "code",
   "execution_count": 5,
   "id": "a59af69e",
   "metadata": {},
   "outputs": [
    {
     "name": "stdout",
     "output_type": "stream",
     "text": [
      "The sum of numbers: 60\n"
     ]
    }
   ],
   "source": [
    "def sum(*num):\n",
    "    total=0\n",
    "    for i in num:\n",
    "        total+=i\n",
    "    return total\n",
    "res=sum(10,20,30)\n",
    "print('The sum of numbers:',res)"
   ]
  },
  {
   "cell_type": "markdown",
   "id": "94877a90",
   "metadata": {},
   "source": [
    "5.\tWhat is the purpose of the `*args` and `**kwargs` syntax in function parameter lists?"
   ]
  },
  {
   "cell_type": "markdown",
   "id": "95e8a8b0",
   "metadata": {},
   "source": [
    "The purpose of *args-It allows a function to accept any number of positional arguments. The term \"args\" is just a convention; you could use any name preceded by an asterisk.\n",
    "\n",
    "The purpose of **kwargs-It allows a function to accept any number of keyword arguments. \"kwargs\" is a convention; you could use any name preceded by a double asterisk."
   ]
  },
  {
   "cell_type": "markdown",
   "id": "833dd715",
   "metadata": {},
   "source": [
    "# Return Values and Scoping:"
   ]
  },
  {
   "cell_type": "markdown",
   "id": "29ff8bc2",
   "metadata": {},
   "source": [
    "1.\tDescribe the role of the `return` statement in Python functions and provide examples."
   ]
  },
  {
   "cell_type": "markdown",
   "id": "a3a11829",
   "metadata": {},
   "source": [
    "In Python, the return statement is used in functions to specify the value that a function should return to the caller. When a function is called, it may perform a series of computations or operations, and the result can be passed back to the calling code using the return statement. This allows the function to produce a value that can be used or manipulated by the calling code.\n",
    "\n",
    "Example-"
   ]
  },
  {
   "cell_type": "code",
   "execution_count": 6,
   "id": "b1929f99",
   "metadata": {},
   "outputs": [
    {
     "name": "stdout",
     "output_type": "stream",
     "text": [
      "8\n"
     ]
    }
   ],
   "source": [
    "def add_numbers(a, b):\n",
    "    result = a + b\n",
    "    return result\n",
    "\n",
    "sum_result = add_numbers(3, 5)\n",
    "print(sum_result)\n"
   ]
  },
  {
   "cell_type": "markdown",
   "id": "cda0a4af",
   "metadata": {},
   "source": [
    "In this example, the add_numbers function takes two parameters (a and b), adds them together, and then uses the return statement to send the result back to the caller."
   ]
  },
  {
   "cell_type": "markdown",
   "id": "32f125ac",
   "metadata": {},
   "source": [
    "2.\tExplain the concept of variable scope in Python, including local and global variables."
   ]
  },
  {
   "cell_type": "markdown",
   "id": "ebaa8e53",
   "metadata": {},
   "source": [
    "Variable scope in Python refers to the region of the code where a particular variable can be accessed or modified. The scope of a variable is defined by where it is declared, and it determines the part of the program where the variable is valid and can be used.\n",
    "\n",
    "There are two main types of variable scope in Python: local scope and global scope.\n",
    "\n",
    "1.Local Scope-\n",
    "A variable defined inside a function is said to have local scope.\n",
    "It is accessible only within the function where it is declared.\n",
    "Once the function execution is complete, the local variables are destroyed, and their values are no longer available.\n",
    "\n",
    "2.Global Scope-\n",
    "A variable declared outside of any function or block has global scope.\n",
    "It is accessible throughout the entire program, both inside and outside functions.\n",
    "Global variables persist throughout the program's execution."
   ]
  },
  {
   "cell_type": "markdown",
   "id": "feac7850",
   "metadata": {},
   "source": [
    "3.\tWrite a Python program that demonstrates the use of global variables within functions."
   ]
  },
  {
   "cell_type": "code",
   "execution_count": 8,
   "id": "072d869d",
   "metadata": {},
   "outputs": [
    {
     "name": "stdout",
     "output_type": "stream",
     "text": [
      "global_variable: 10\n",
      "global_variable: 15\n"
     ]
    }
   ],
   "source": [
    "num1=10\n",
    "def mod_global_var():\n",
    "    global num1\n",
    "    num1+=5\n",
    "    \n",
    "def print_global_var():\n",
    "    print('global_variable:',num1)\n",
    "    \n",
    "print_global_var()\n",
    "mod_global_var()\n",
    "print_global_var()"
   ]
  },
  {
   "cell_type": "markdown",
   "id": "bdd4989b",
   "metadata": {},
   "source": [
    "4.\tCreate a Python function that calculates the factorial of a number and returns it."
   ]
  },
  {
   "cell_type": "code",
   "execution_count": 9,
   "id": "2d344b3a",
   "metadata": {},
   "outputs": [
    {
     "name": "stdout",
     "output_type": "stream",
     "text": [
      "Enter a number: 6\n",
      "The factorial of 6 is 720\n"
     ]
    }
   ],
   "source": [
    "def factorial(num):\n",
    "    if num==0 or num==1:\n",
    "        return 1\n",
    "    else:\n",
    "        return num*factorial(num-1)\n",
    "\n",
    "num=int(input('Enter a number: '))\n",
    "res=factorial(num)\n",
    "print(f'The factorial of {num} is {res}')"
   ]
  },
  {
   "cell_type": "markdown",
   "id": "11926fe8",
   "metadata": {},
   "source": [
    "5.\tHow can you access variables defined outside a function from within the function?"
   ]
  },
  {
   "cell_type": "markdown",
   "id": "7b76141a",
   "metadata": {},
   "source": [
    "To access variables defined outside a function from within the function in Python, you can use the global keyword or simply reference the variable without using the global keyword. The choice between using global depends on whether you intend to modify the global variable's value within the function."
   ]
  },
  {
   "cell_type": "markdown",
   "id": "65e086e3",
   "metadata": {},
   "source": [
    "# Lambda Functions and Higher-Order Functions:"
   ]
  },
  {
   "cell_type": "markdown",
   "id": "46f2a219",
   "metadata": {},
   "source": [
    "1.\tWhat are lambda functions in Python, and when are they typically used?"
   ]
  },
  {
   "cell_type": "markdown",
   "id": "cc95475a",
   "metadata": {},
   "source": [
    "In Python, a lambda function is a small, anonymous function defined using the lambda keyword. Lambda functions are often referred to as anonymous functions because they don't have a name. They are used for short-term operations where a full function definition is not required. \n",
    "The syntax of a lambda function is:\n",
    "\n",
    "lambda arguments:expression"
   ]
  },
  {
   "cell_type": "markdown",
   "id": "d7a2fd33",
   "metadata": {},
   "source": [
    "2.\tWrite a Python program that uses lambda functions to sort a list of tuples based on the second element."
   ]
  },
  {
   "cell_type": "code",
   "execution_count": 11,
   "id": "c934d869",
   "metadata": {},
   "outputs": [
    {
     "name": "stdout",
     "output_type": "stream",
     "text": [
      "The sorted list based on the second elements of tuples are: [(4, 1), (3, 2), (67, 3), (1, 5), (2, 8), (8, 9), (12, 15)]\n"
     ]
    }
   ],
   "source": [
    "tuple_list = [(1,5), (3,2), (2,8), (4,1),(8,9),(12,15),(67,3)]\n",
    "\n",
    "sorted_list = sorted(tuple_list, key=lambda x: x[1])\n",
    "\n",
    "print('The sorted list based on the second elements of tuples are:',sorted_list)"
   ]
  },
  {
   "cell_type": "markdown",
   "id": "9891cea5",
   "metadata": {},
   "source": [
    "3.\tExplain the concept of higher-order functions in Python, and provide an example."
   ]
  },
  {
   "cell_type": "markdown",
   "id": "f18dc33a",
   "metadata": {},
   "source": [
    "A function that is having another function as an argument or a function that returns another function as a return in the output is called the High order function. High order functions operate with other functions given in the program.\n",
    "\n",
    "example-"
   ]
  },
  {
   "cell_type": "code",
   "execution_count": 16,
   "id": "ba469b6c",
   "metadata": {},
   "outputs": [
    {
     "name": "stdout",
     "output_type": "stream",
     "text": [
      "The length of Pwskills 8\n"
     ]
    }
   ],
   "source": [
    "def string_op(string,op):\n",
    "    return op(string)\n",
    "\n",
    "def string_len(string):\n",
    "    return len(string)\n",
    "\n",
    "string='Pwskills'\n",
    "length_string=string_op(string,string_len)\n",
    "\n",
    "print(f'The length of {string}:',length_string)"
   ]
  },
  {
   "cell_type": "markdown",
   "id": "8f46618e",
   "metadata": {},
   "source": [
    "4.\tCreate a Python function that takes a list of numbers and a function as arguments, applying the function to each element in the list."
   ]
  },
  {
   "cell_type": "code",
   "execution_count": 14,
   "id": "f36253af",
   "metadata": {},
   "outputs": [
    {
     "name": "stdout",
     "output_type": "stream",
     "text": [
      "The square numbers: [1, 4, 9, 16, 25]\n",
      "The doubled numbers: [2, 4, 6, 8, 10]\n"
     ]
    }
   ],
   "source": [
    "def operation(op,num):\n",
    "    result=[]\n",
    "    for i in num:\n",
    "        result.append(op(i))\n",
    "    return result\n",
    "\n",
    "def square(n):\n",
    "    return n**2\n",
    "\n",
    "def double(x):\n",
    "    return x*2\n",
    "\n",
    "num_list=[1,2,3,4,5]\n",
    "\n",
    "squared_num=operation(square,num_list)\n",
    "print('The square numbers:',squared_num)\n",
    "\n",
    "doubled_num=operation(double,num_list)\n",
    "print('The doubled numbers:',doubled_num)"
   ]
  },
  {
   "cell_type": "markdown",
   "id": "aa31b1e0",
   "metadata": {},
   "source": [
    "# Built-in Functions:"
   ]
  },
  {
   "cell_type": "markdown",
   "id": "8e189cb7",
   "metadata": {},
   "source": [
    "1.\tDescribe the role of built-in functions like `len()`, `max()`, and `min()` in Python."
   ]
  },
  {
   "cell_type": "markdown",
   "id": "392d6eef",
   "metadata": {},
   "source": [
    "len()-Calculates the length or the number of items in an object.\n",
    "\n",
    "\n",
    "max()-Returns the largest item in an iterable or the largest of two or more arguments.\n",
    "\n",
    "\n",
    "min()-Returns the smallest item in an iterable or the smallest of two or more arguments."
   ]
  },
  {
   "cell_type": "markdown",
   "id": "ab52aff3",
   "metadata": {},
   "source": [
    "2.\tWrite a Python program that uses the `map()` function to apply a function to each element of a list."
   ]
  },
  {
   "cell_type": "code",
   "execution_count": 17,
   "id": "b7eb57ac",
   "metadata": {},
   "outputs": [
    {
     "name": "stdout",
     "output_type": "stream",
     "text": [
      "The squared list: [25, 36, 49, 64, 81, 100]\n"
     ]
    }
   ],
   "source": [
    "def square(num):\n",
    "    return num**2\n",
    "num_lst=[5,6,7,8,9,10]\n",
    "sqaured_list=list(map(square,num_lst))\n",
    "print('The squared list:',sqaured_list)"
   ]
  },
  {
   "cell_type": "markdown",
   "id": "c19b19c5",
   "metadata": {},
   "source": [
    "3.\tHow does the `filter()` function work in Python, and when would you use it?"
   ]
  },
  {
   "cell_type": "markdown",
   "id": "c70f5c1b",
   "metadata": {},
   "source": [
    "The filter() function in Python is a built-in function that is used to filter elements from an iterable (such as a list) based on a specified function, often referred to as the \"filtering function.\" The filter() function constructs an iterator from elements of the iterable for which the filtering function returns True.\n",
    "\n",
    "syntax-filter(function,iterable)\n",
    "\n",
    "When to use filter():\n",
    "Filtering based on a condition: Use filter() when you want to select elements from an iterable based on a specific condition defined by a function.\n",
    "Creating a new iterable: Use filter() when you need to create a new iterable containing only the elements that satisfy a certain criterion."
   ]
  },
  {
   "cell_type": "markdown",
   "id": "79d04164",
   "metadata": {},
   "source": [
    "4.\tCreate a Python program that uses the `reduce()` function to find the product of all elements in a list."
   ]
  },
  {
   "cell_type": "code",
   "execution_count": 18,
   "id": "79b89fee",
   "metadata": {},
   "outputs": [
    {
     "name": "stdout",
     "output_type": "stream",
     "text": [
      "The product of all elements in a list: 720\n"
     ]
    }
   ],
   "source": [
    "from functools import reduce\n",
    "num_list=[1,2,3,4,5,6]\n",
    "product=reduce(lambda a,b:a*b,num_list)\n",
    "print('The product of all elements in a list:',product)"
   ]
  },
  {
   "cell_type": "markdown",
   "id": "22b22f21",
   "metadata": {},
   "source": [
    "# Function Documentation and Best Practices:"
   ]
  },
  {
   "cell_type": "markdown",
   "id": "e51944e7",
   "metadata": {},
   "source": [
    "1.\tExplain the purpose of docstrings in Python functions and how to write them."
   ]
  },
  {
   "cell_type": "markdown",
   "id": "e95461f4",
   "metadata": {},
   "source": [
    "Docstrings in Python are used to document code, specifically to provide information about the purpose, usage, and behavior of functions, classes, modules, or methods. The term \"docstring\" is a combination of \"documentation\" and \"string.\" Docstrings are essentially strings enclosed in triple-quotes (single or double) that immediately follow the definition of a Python function, module, class, or method.\n",
    "\n",
    "When writing docstrings, it's important to follow a consistent style.Some commonly used conventions include:\n",
    "Using triple-double quotes (\"\"\") for docstrings.\n",
    "Starting the docstring with a one-line summary.\n",
    "Using sections like Parameters, Returns, Raises, etc., as needed.\n",
    "Being concise and clear in your explanations."
   ]
  },
  {
   "cell_type": "markdown",
   "id": "4cdecf1c",
   "metadata": {},
   "source": [
    "2.\tDescribe some best practices for naming functions and variables in Python, including naming conventions and guidelines."
   ]
  },
  {
   "cell_type": "markdown",
   "id": "1fc4bf14",
   "metadata": {},
   "source": [
    "Some best practices for naming functions and variable in Python:-\n",
    "\n",
    "\n",
    "1.Use lowercase with underscores for function and variable names(exp-my_variable)\n",
    "\n",
    "\n",
    "2.Choose names that clearly indicate the purpose of the function or variable.\n",
    "\n",
    "\n",
    "3.Except for simple loop variables, avoid using single-letter names. Descriptive names enhance code readability.\n",
    "\n",
    "\n",
    "4.For multi-word names, use snake_case (words separated by underscores) \n",
    "\n",
    "\n",
    "5.Maintain consistency in naming conventions throughout your codebase.\n",
    "\n",
    "\n",
    "6.Avoid using Python reserved words (e.g., str, list, int) as variable or function names to prevent conflicts and confusion."
   ]
  }
 ],
 "metadata": {
  "kernelspec": {
   "display_name": "Python 3 (ipykernel)",
   "language": "python",
   "name": "python3"
  },
  "language_info": {
   "codemirror_mode": {
    "name": "ipython",
    "version": 3
   },
   "file_extension": ".py",
   "mimetype": "text/x-python",
   "name": "python",
   "nbconvert_exporter": "python",
   "pygments_lexer": "ipython3",
   "version": "3.9.12"
  }
 },
 "nbformat": 4,
 "nbformat_minor": 5
}
